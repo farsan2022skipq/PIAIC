{
 "cells": [
  {
   "cell_type": "markdown",
   "metadata": {},
   "source": [
    "### Polymorphism\n",
    "Same method but different no of arguments or differnet arguments type.\n",
    "### Encapulation\n",
    "some attributes of class are made private and they can be updated through functions.\n",
    "### Abstraction \n",
    "(incomplete Class)\n",
    "(Cannot make directly instance)\n",
    "### Exception Handling\n",
    "(Human error or resources cannot be located) (program crashes because of exception) (abnormal behaviour)\n",
    "(Testing is done before publishing application)\n",
    "### File Handling\n",
    "(text,php,python,sql,csv....etc) (Create, Update, Delete)"
   ]
  },
  {
   "cell_type": "markdown",
   "metadata": {},
   "source": [
    "## Encapulation"
   ]
  },
  {
   "cell_type": "code",
   "execution_count": 48,
   "metadata": {},
   "outputs": [],
   "source": [
    "# Model --> ( .__init__ )\n",
    "# Package --> (Folder containing files)\n",
    "# form making any attribute or method private we use ( __ ) \n",
    "class A():\n",
    "    def __init__(self,name,age):\n",
    "        self.__sname = name\n",
    "        self.__age = age\n",
    "        \n",
    "    def display(self):\n",
    "        print(\"Name: \", self.__sname)\n",
    "        print(\"Age :\", self.__age)\n",
    "    \n",
    "    def change(self,a,b):\n",
    "        self.__sname = a\n",
    "        self.__age = b\n",
    "        \n",
    "    def __info(self):\n",
    "        print('Hello World')\n",
    "    def abc(self):\n",
    "        self.__info()\n",
    "        \n",
    "obj = A(\"Ali\",\"25\")"
   ]
  },
  {
   "cell_type": "code",
   "execution_count": 49,
   "metadata": {},
   "outputs": [
    {
     "ename": "AttributeError",
     "evalue": "'A' object has no attribute 'sname'",
     "output_type": "error",
     "traceback": [
      "\u001b[1;31m---------------------------------------------------------------------------\u001b[0m",
      "\u001b[1;31mAttributeError\u001b[0m                            Traceback (most recent call last)",
      "\u001b[1;32m<ipython-input-49-f52aa6240b38>\u001b[0m in \u001b[0;36m<module>\u001b[1;34m\u001b[0m\n\u001b[0;32m      1\u001b[0m \u001b[1;31m# Cant directly acess private attributes of a class\u001b[0m\u001b[1;33m\u001b[0m\u001b[1;33m\u001b[0m\u001b[1;33m\u001b[0m\u001b[0m\n\u001b[0;32m      2\u001b[0m \u001b[1;33m\u001b[0m\u001b[0m\n\u001b[1;32m----> 3\u001b[1;33m \u001b[0mobj\u001b[0m\u001b[1;33m.\u001b[0m\u001b[0msname\u001b[0m\u001b[1;33m\u001b[0m\u001b[1;33m\u001b[0m\u001b[0m\n\u001b[0m",
      "\u001b[1;31mAttributeError\u001b[0m: 'A' object has no attribute 'sname'"
     ]
    }
   ],
   "source": [
    "# Cant directly acess private attributes of a class\n",
    "\n",
    "obj.sname"
   ]
  },
  {
   "cell_type": "code",
   "execution_count": 50,
   "metadata": {},
   "outputs": [
    {
     "name": "stdout",
     "output_type": "stream",
     "text": [
      "Ali\n",
      "Hello World\n",
      "None\n"
     ]
    }
   ],
   "source": [
    "# Private attributes of a class cannot be accessed.\n",
    "# Can access attribute by using class Refrence.\n",
    "print(obj._A__sname)\n",
    "print(obj._A__info())\n"
   ]
  },
  {
   "cell_type": "code",
   "execution_count": 51,
   "metadata": {},
   "outputs": [
    {
     "name": "stdout",
     "output_type": "stream",
     "text": [
      "Name:  Ali\n",
      "Age : 25\n"
     ]
    }
   ],
   "source": [
    "obj.display()"
   ]
  },
  {
   "cell_type": "code",
   "execution_count": 52,
   "metadata": {},
   "outputs": [
    {
     "name": "stdout",
     "output_type": "stream",
     "text": [
      "Name:  Asif\n",
      "Age : 30\n"
     ]
    }
   ],
   "source": [
    "obj.change('Asif',\"30\")\n",
    "obj.display()"
   ]
  },
  {
   "cell_type": "code",
   "execution_count": 53,
   "metadata": {},
   "outputs": [
    {
     "name": "stdout",
     "output_type": "stream",
     "text": [
      "Hello World\n"
     ]
    }
   ],
   "source": [
    "# Private method cannot be accessed directly, we have to make getter and setter methods.\n",
    "obj.abc()"
   ]
  },
  {
   "cell_type": "markdown",
   "metadata": {},
   "source": [
    "## Abstract Class"
   ]
  },
  {
   "cell_type": "code",
   "execution_count": 55,
   "metadata": {},
   "outputs": [],
   "source": [
    "class A: # Abstract Class\n",
    "    def __init__(self,a,b):\n",
    "        self.a = a\n",
    "        self.b = b\n",
    "        \n",
    "class B(A):\n",
    "    pass"
   ]
  },
  {
   "cell_type": "code",
   "execution_count": 56,
   "metadata": {},
   "outputs": [],
   "source": [
    "obj1 = A(2,5)"
   ]
  },
  {
   "cell_type": "code",
   "execution_count": 57,
   "metadata": {},
   "outputs": [
    {
     "name": "stdout",
     "output_type": "stream",
     "text": [
      "2\n",
      "5\n"
     ]
    }
   ],
   "source": [
    "print(obj1.a)\n",
    "print(obj1.b)"
   ]
  },
  {
   "cell_type": "code",
   "execution_count": 58,
   "metadata": {},
   "outputs": [],
   "source": [
    "obj2 = B(7,9)"
   ]
  },
  {
   "cell_type": "code",
   "execution_count": 70,
   "metadata": {},
   "outputs": [
    {
     "ename": "TypeError",
     "evalue": "Can't instantiate abstract class A with abstract methods __init__",
     "output_type": "error",
     "traceback": [
      "\u001b[1;31m---------------------------------------------------------------------------\u001b[0m",
      "\u001b[1;31mTypeError\u001b[0m                                 Traceback (most recent call last)",
      "\u001b[1;32m<ipython-input-70-288accb9882c>\u001b[0m in \u001b[0;36m<module>\u001b[1;34m\u001b[0m\n\u001b[0;32m     15\u001b[0m     \u001b[1;32mpass\u001b[0m\u001b[1;33m\u001b[0m\u001b[1;33m\u001b[0m\u001b[0m\n\u001b[0;32m     16\u001b[0m \u001b[1;33m\u001b[0m\u001b[0m\n\u001b[1;32m---> 17\u001b[1;33m \u001b[0mobj1\u001b[0m \u001b[1;33m=\u001b[0m \u001b[0mA\u001b[0m\u001b[1;33m(\u001b[0m\u001b[1;36m5\u001b[0m\u001b[1;33m,\u001b[0m\u001b[1;36m7\u001b[0m\u001b[1;33m)\u001b[0m\u001b[1;33m\u001b[0m\u001b[1;33m\u001b[0m\u001b[0m\n\u001b[0m",
      "\u001b[1;31mTypeError\u001b[0m: Can't instantiate abstract class A with abstract methods __init__"
     ]
    }
   ],
   "source": [
    "from abc import ABC, abstractmethod\n",
    "# for making a class abstract we extend it from ABC class and we use abstractmethod decorator.\n",
    "\n",
    "class A(ABC):\n",
    "    \n",
    "    @abstractmethod\n",
    "    def __init__(self,a,b):\n",
    "        self.a = a\n",
    "        self.b = b\n",
    "        \n",
    "    def abs():\n",
    "        pass\n",
    "        \n",
    "class B(A):\n",
    "    pass\n",
    "\n",
    "obj1 = A(5,7)"
   ]
  },
  {
   "cell_type": "code",
   "execution_count": 76,
   "metadata": {},
   "outputs": [
    {
     "ename": "TypeError",
     "evalue": "Can't instantiate abstract class Human with abstract methods __init__",
     "output_type": "error",
     "traceback": [
      "\u001b[1;31m---------------------------------------------------------------------------\u001b[0m",
      "\u001b[1;31mTypeError\u001b[0m                                 Traceback (most recent call last)",
      "\u001b[1;32m<ipython-input-76-feb37d52c4fb>\u001b[0m in \u001b[0;36m<module>\u001b[1;34m\u001b[0m\n\u001b[0;32m     13\u001b[0m         \u001b[1;32mreturn\u001b[0m \u001b[1;34mf\"Object name is {self.name} {self.age} old\"\u001b[0m\u001b[1;33m\u001b[0m\u001b[1;33m\u001b[0m\u001b[0m\n\u001b[0;32m     14\u001b[0m \u001b[1;33m\u001b[0m\u001b[0m\n\u001b[1;32m---> 15\u001b[1;33m \u001b[0mh1\u001b[0m \u001b[1;33m=\u001b[0m \u001b[0mHuman\u001b[0m\u001b[1;33m(\u001b[0m\u001b[1;33m)\u001b[0m\u001b[1;33m\u001b[0m\u001b[1;33m\u001b[0m\u001b[0m\n\u001b[0m\u001b[0;32m     16\u001b[0m \u001b[0mh1\u001b[0m\u001b[1;33m.\u001b[0m\u001b[0mdisplay\u001b[0m\u001b[1;33m(\u001b[0m\u001b[1;34m'ALI'\u001b[0m\u001b[1;33m,\u001b[0m \u001b[1;36m25\u001b[0m\u001b[1;33m)\u001b[0m\u001b[1;33m\u001b[0m\u001b[1;33m\u001b[0m\u001b[0m\n",
      "\u001b[1;31mTypeError\u001b[0m: Can't instantiate abstract class Human with abstract methods __init__"
     ]
    }
   ],
   "source": [
    "from abc import ABC, abstractmethod\n",
    "\n",
    "class Human(ABC):\n",
    "    \n",
    "    @abstractmethod\n",
    "    def __init__(self,):\n",
    "        self.name = None\n",
    "        self.age = None\n",
    "        \n",
    "    def display(self,name,age):\n",
    "        self.name = name\n",
    "        self.age = age\n",
    "        return f\"Object name is {self.name} {self.age} old\"\n",
    "\n",
    "h1 = Human()\n",
    "h1.display('ALI', 25)"
   ]
  },
  {
   "cell_type": "code",
   "execution_count": 80,
   "metadata": {},
   "outputs": [
    {
     "data": {
      "text/plain": [
       "'hahahahhahhahaha'"
      ]
     },
     "execution_count": 80,
     "metadata": {},
     "output_type": "execute_result"
    }
   ],
   "source": [
    "class Male(Human):\n",
    "    def __init__(self):\n",
    "        self.name = 'Ali'\n",
    "        self.fname = 'Haider'\n",
    "    def laughter(self):\n",
    "        return \"hahahahhahhahaha\"\n",
    "m1 = Male()\n",
    "m1.laughter()"
   ]
  },
  {
   "cell_type": "code",
   "execution_count": null,
   "metadata": {},
   "outputs": [],
   "source": [
    "# Encapulation\n",
    "# Abstraction\n",
    "# Polymorphism\n",
    "# Inheritance"
   ]
  },
  {
   "cell_type": "code",
   "execution_count": 82,
   "metadata": {},
   "outputs": [],
   "source": [
    "from abc import ABC, abstractmethod\n",
    "\n",
    "class Human(ABC):\n",
    "    \n",
    "    @abstractmethod\n",
    "    def __init__(self):\n",
    "        self.__name = None\n",
    "        self.__age = None\n",
    "\n",
    "    def setname(self,name,age):\n",
    "        self.__name = name\n",
    "        \n",
    "    def setage(self,age):\n",
    "        self.__age = age\n",
    "        \n",
    "    def getname():\n",
    "        return self.__name\n",
    "    \n",
    "    def getage():\n",
    "        return self.__age\n",
    "    "
   ]
  },
  {
   "cell_type": "code",
   "execution_count": 104,
   "metadata": {},
   "outputs": [],
   "source": [
    "class Male(Human):\n",
    "    \n",
    "    def __init__(self,name,age):\n",
    "        self.__name = name\n",
    "        self.__age = age\n",
    "        \n",
    "    def display(self, weight):\n",
    "        self.weight = weight\n",
    "        print(f\"{self.__name}'s age is {self.__age} and his weight is {self.weight}kg\")\n",
    "    \n",
    "    def display(self):\n",
    "        print(f\"{self.__name}'s age is {self.__age}\")\n",
    "    \n",
    "\n",
    "        \n",
    "class Female(Male):\n",
    "    \n",
    "    def __init__(self,name,age):\n",
    "        self.__name = name\n",
    "        self.__age = age\n",
    "    \n",
    "    def display(self,height):\n",
    "        self.__height = height\n",
    "        print(f\"{self.__name}'s age is {self.__age} and height is {self.__height}\")\n",
    "\n"
   ]
  },
  {
   "cell_type": "code",
   "execution_count": 108,
   "metadata": {},
   "outputs": [
    {
     "name": "stdout",
     "output_type": "stream",
     "text": [
      "Wajahat's age is 25\n"
     ]
    },
    {
     "ename": "TypeError",
     "evalue": "display() takes 1 positional argument but 2 were given",
     "output_type": "error",
     "traceback": [
      "\u001b[1;31m---------------------------------------------------------------------------\u001b[0m",
      "\u001b[1;31mTypeError\u001b[0m                                 Traceback (most recent call last)",
      "\u001b[1;32m<ipython-input-108-ed361f0ae008>\u001b[0m in \u001b[0;36m<module>\u001b[1;34m\u001b[0m\n\u001b[0;32m      1\u001b[0m \u001b[0mm1\u001b[0m \u001b[1;33m=\u001b[0m \u001b[0mMale\u001b[0m\u001b[1;33m(\u001b[0m\u001b[1;34m\"Wajahat\"\u001b[0m\u001b[1;33m,\u001b[0m \u001b[1;36m25\u001b[0m\u001b[1;33m)\u001b[0m\u001b[1;33m\u001b[0m\u001b[1;33m\u001b[0m\u001b[0m\n\u001b[0;32m      2\u001b[0m \u001b[0mm1\u001b[0m\u001b[1;33m.\u001b[0m\u001b[0mdisplay\u001b[0m\u001b[1;33m(\u001b[0m\u001b[1;33m)\u001b[0m\u001b[1;33m\u001b[0m\u001b[1;33m\u001b[0m\u001b[0m\n\u001b[1;32m----> 3\u001b[1;33m \u001b[0mm1\u001b[0m\u001b[1;33m.\u001b[0m\u001b[0mdisplay\u001b[0m\u001b[1;33m(\u001b[0m\u001b[1;36m50\u001b[0m\u001b[1;33m)\u001b[0m\u001b[1;33m\u001b[0m\u001b[1;33m\u001b[0m\u001b[0m\n\u001b[0m",
      "\u001b[1;31mTypeError\u001b[0m: display() takes 1 positional argument but 2 were given"
     ]
    }
   ],
   "source": [
    "m1 = Male(\"Wajahat\", 25)\n",
    "m1.display()\n",
    "m1.display(50)"
   ]
  },
  {
   "cell_type": "code",
   "execution_count": 109,
   "metadata": {},
   "outputs": [
    {
     "name": "stdout",
     "output_type": "stream",
     "text": [
      "Alex's age is 30 and height is 5.6\n"
     ]
    }
   ],
   "source": [
    "f1 = Female(\"Alex\",30)\n",
    "f1.display(5.6)"
   ]
  },
  {
   "cell_type": "markdown",
   "metadata": {},
   "source": [
    "## Exception Handling"
   ]
  },
  {
   "cell_type": "raw",
   "metadata": {},
   "source": [
    "There can be more than one try and except blocks\n",
    "\n",
    "try:\n",
    "    your code\n",
    "except (errClass1, errClass2, ....):\n",
    "    message show against your errClass\n",
    "else:\n",
    "    message if exception did'not raise\n",
    "finally:\n",
    "    always run this block"
   ]
  },
  {
   "cell_type": "code",
   "execution_count": 150,
   "metadata": {},
   "outputs": [
    {
     "name": "stdout",
     "output_type": "stream",
     "text": [
      "Start ....\n",
      "2.0\n",
      "Index not found ! \n",
      "End ......\n"
     ]
    }
   ],
   "source": [
    "print(\"Start ....\")\n",
    "try:\n",
    "    print(6/3)\n",
    "    a = [3,7]\n",
    "    print(a[7])\n",
    "except (ZeroDivisionError):\n",
    "    print(\"Division by Zero is not allowed ! \")\n",
    "except (IndexError):\n",
    "    print(\"Index not found ! \")\n",
    "print(\"End ......\")"
   ]
  },
  {
   "cell_type": "code",
   "execution_count": 152,
   "metadata": {},
   "outputs": [
    {
     "name": "stdout",
     "output_type": "stream",
     "text": [
      "Start ....\n",
      "Division by Zero is not allowed ! \n",
      "Index not found ! \n",
      "End ......\n"
     ]
    }
   ],
   "source": [
    "print(\"Start ....\")\n",
    "try:\n",
    "    print(6/0)\n",
    "except (ZeroDivisionError):\n",
    "    print(\"Division by Zero is not allowed ! \")\n",
    "try:\n",
    "    a = [3,7]\n",
    "    print(a[7])\n",
    "except (IndexError):\n",
    "    print(\"Index not found ! \")\n",
    "print(\"End ......\")"
   ]
  },
  {
   "cell_type": "code",
   "execution_count": 154,
   "metadata": {},
   "outputs": [
    {
     "name": "stdout",
     "output_type": "stream",
     "text": [
      "We are trying to solve some problems !\n"
     ]
    }
   ],
   "source": [
    "try:\n",
    "    open('abc.txt')\n",
    "    a = [2,3]\n",
    "    print(a[7])\n",
    "    print(9/0)\n",
    "except:\n",
    "        print('We are trying to solve some problems !')"
   ]
  },
  {
   "cell_type": "code",
   "execution_count": 161,
   "metadata": {},
   "outputs": [
    {
     "name": "stdout",
     "output_type": "stream",
     "text": [
      "Sorry [Errno 2] No such file or directory: 'abc.txt'\n"
     ]
    }
   ],
   "source": [
    "# Dynamic Exception Handling\n",
    "try:\n",
    "    open('abc.txt')\n",
    "    #a = [2,3]\n",
    "    #print(a[7])\n",
    "    print(9/0)\n",
    "except Exception as e:\n",
    "    print(f\"Sorry\", e) # Base class excetion"
   ]
  },
  {
   "cell_type": "code",
   "execution_count": 163,
   "metadata": {},
   "outputs": [
    {
     "name": "stdout",
     "output_type": "stream",
     "text": [
      "3.5\n",
      "Your code is running without any error !\n"
     ]
    }
   ],
   "source": [
    "try:\n",
    "    print(7/2)\n",
    "except Exception as e:\n",
    "    print(e)\n",
    "else:\n",
    "    print(\"Your code is running without any error !\")"
   ]
  },
  {
   "cell_type": "code",
   "execution_count": 164,
   "metadata": {},
   "outputs": [
    {
     "name": "stdout",
     "output_type": "stream",
     "text": [
      "3.5\n",
      "Your code is running without any error !\n",
      "Finally block always runs !!\n"
     ]
    }
   ],
   "source": [
    "try:\n",
    "    print(7/2)\n",
    "except Exception as e:\n",
    "    print(e)\n",
    "else:\n",
    "    print(\"Your code is running without any error !\")\n",
    "finally:\n",
    "    print(\"Finally block always runs !!\")"
   ]
  },
  {
   "cell_type": "code",
   "execution_count": 165,
   "metadata": {},
   "outputs": [
    {
     "data": {
      "text/plain": [
       "'win32'"
      ]
     },
     "execution_count": 165,
     "metadata": {},
     "output_type": "execute_result"
    }
   ],
   "source": [
    "import sys\n",
    "sys.platform"
   ]
  },
  {
   "cell_type": "markdown",
   "metadata": {},
   "source": [
    "### Raise (function) and  Assert (keyword)\n",
    "Raise method to raise any error"
   ]
  },
  {
   "cell_type": "code",
   "execution_count": 187,
   "metadata": {},
   "outputs": [
    {
     "ename": "Exception",
     "evalue": "Age Range 18 to 80",
     "output_type": "error",
     "traceback": [
      "\u001b[1;31m---------------------------------------------------------------------------\u001b[0m",
      "\u001b[1;31mException\u001b[0m                                 Traceback (most recent call last)",
      "\u001b[1;32m<ipython-input-187-a449f5427fbd>\u001b[0m in \u001b[0;36m<module>\u001b[1;34m\u001b[0m\n\u001b[0;32m      7\u001b[0m         \u001b[0mself\u001b[0m\u001b[1;33m.\u001b[0m\u001b[0mage\u001b[0m \u001b[1;33m=\u001b[0m \u001b[0mage\u001b[0m\u001b[1;33m\u001b[0m\u001b[1;33m\u001b[0m\u001b[0m\n\u001b[0;32m      8\u001b[0m \u001b[1;33m\u001b[0m\u001b[0m\n\u001b[1;32m----> 9\u001b[1;33m \u001b[0mobj1\u001b[0m \u001b[1;33m=\u001b[0m \u001b[0mStudent\u001b[0m\u001b[1;33m(\u001b[0m\u001b[1;36m10\u001b[0m\u001b[1;33m)\u001b[0m\u001b[1;33m\u001b[0m\u001b[1;33m\u001b[0m\u001b[0m\n\u001b[0m",
      "\u001b[1;32m<ipython-input-187-a449f5427fbd>\u001b[0m in \u001b[0;36m__init__\u001b[1;34m(self, age)\u001b[0m\n\u001b[0;32m      4\u001b[0m     \u001b[1;32mdef\u001b[0m \u001b[0m__init__\u001b[0m\u001b[1;33m(\u001b[0m\u001b[0mself\u001b[0m\u001b[1;33m,\u001b[0m\u001b[0mage\u001b[0m\u001b[1;33m)\u001b[0m\u001b[1;33m:\u001b[0m\u001b[1;33m\u001b[0m\u001b[1;33m\u001b[0m\u001b[0m\n\u001b[0;32m      5\u001b[0m         \u001b[1;32mif\u001b[0m \u001b[1;33m(\u001b[0m\u001b[0mage\u001b[0m\u001b[1;33m<\u001b[0m\u001b[1;36m18\u001b[0m \u001b[1;32mor\u001b[0m \u001b[0mage\u001b[0m\u001b[1;33m>\u001b[0m\u001b[1;36m80\u001b[0m\u001b[1;33m)\u001b[0m\u001b[1;33m:\u001b[0m\u001b[1;33m\u001b[0m\u001b[1;33m\u001b[0m\u001b[0m\n\u001b[1;32m----> 6\u001b[1;33m             \u001b[1;32mraise\u001b[0m \u001b[0mException\u001b[0m\u001b[1;33m(\u001b[0m\u001b[1;34m\"Age Range 18 to 80\"\u001b[0m\u001b[1;33m)\u001b[0m\u001b[1;33m\u001b[0m\u001b[1;33m\u001b[0m\u001b[0m\n\u001b[0m\u001b[0;32m      7\u001b[0m         \u001b[0mself\u001b[0m\u001b[1;33m.\u001b[0m\u001b[0mage\u001b[0m \u001b[1;33m=\u001b[0m \u001b[0mage\u001b[0m\u001b[1;33m\u001b[0m\u001b[1;33m\u001b[0m\u001b[0m\n\u001b[0;32m      8\u001b[0m \u001b[1;33m\u001b[0m\u001b[0m\n",
      "\u001b[1;31mException\u001b[0m: Age Range 18 to 80"
     ]
    }
   ],
   "source": [
    "# Raise\n",
    "\n",
    "class Student():\n",
    "    def __init__(self,age):\n",
    "        if (age<18 or age>80):\n",
    "            raise Exception(\"Age Range 18 to 80\")\n",
    "        self.age = age\n",
    "        \n",
    "obj1 = Student(10)\n"
   ]
  },
  {
   "cell_type": "code",
   "execution_count": null,
   "metadata": {},
   "outputs": [],
   "source": []
  },
  {
   "cell_type": "code",
   "execution_count": 6,
   "metadata": {},
   "outputs": [
    {
     "name": "stdout",
     "output_type": "stream",
     "text": [
      "The vale of a is 5 and the value of b is 0\n"
     ]
    },
    {
     "ename": "AssertionError",
     "evalue": "The value of b can not be zero !",
     "output_type": "error",
     "traceback": [
      "\u001b[1;31m---------------------------------------------------------------------------\u001b[0m",
      "\u001b[1;31mAssertionError\u001b[0m                            Traceback (most recent call last)",
      "\u001b[1;32m<ipython-input-6-2cb662877e2f>\u001b[0m in \u001b[0;36m<module>\u001b[1;34m\u001b[0m\n\u001b[0;32m      3\u001b[0m \u001b[0mb\u001b[0m \u001b[1;33m=\u001b[0m \u001b[1;36m0\u001b[0m\u001b[1;33m\u001b[0m\u001b[1;33m\u001b[0m\u001b[0m\n\u001b[0;32m      4\u001b[0m \u001b[0mprint\u001b[0m\u001b[1;33m(\u001b[0m\u001b[1;34mf\"The vale of a is {a} and the value of b is {b}\"\u001b[0m\u001b[1;33m)\u001b[0m\u001b[1;33m\u001b[0m\u001b[1;33m\u001b[0m\u001b[0m\n\u001b[1;32m----> 5\u001b[1;33m \u001b[1;32massert\u001b[0m \u001b[0mb\u001b[0m\u001b[1;33m!=\u001b[0m\u001b[1;36m0\u001b[0m \u001b[1;33m,\u001b[0m \u001b[1;34m\"The value of b can not be zero !\"\u001b[0m\u001b[1;33m\u001b[0m\u001b[1;33m\u001b[0m\u001b[0m\n\u001b[0m\u001b[0;32m      6\u001b[0m \u001b[0mprint\u001b[0m\u001b[1;33m(\u001b[0m\u001b[0ma\u001b[0m\u001b[1;33m/\u001b[0m\u001b[0mb\u001b[0m\u001b[1;33m)\u001b[0m\u001b[1;33m\u001b[0m\u001b[1;33m\u001b[0m\u001b[0m\n",
      "\u001b[1;31mAssertionError\u001b[0m: The value of b can not be zero !"
     ]
    }
   ],
   "source": [
    "# Assert\n",
    "a = 5\n",
    "b = 0\n",
    "print(f\"The vale of a is {a} and the value of b is {b}\")\n",
    "assert b!=0 , \"The value of b can not be zero !\"\n",
    "print(a/b)"
   ]
  },
  {
   "cell_type": "code",
   "execution_count": null,
   "metadata": {},
   "outputs": [],
   "source": [
    "\n",
    "        "
   ]
  },
  {
   "cell_type": "code",
   "execution_count": null,
   "metadata": {},
   "outputs": [],
   "source": []
  }
 ],
 "metadata": {
  "kernelspec": {
   "display_name": "Python 3",
   "language": "python",
   "name": "python3"
  },
  "language_info": {
   "codemirror_mode": {
    "name": "ipython",
    "version": 3
   },
   "file_extension": ".py",
   "mimetype": "text/x-python",
   "name": "python",
   "nbconvert_exporter": "python",
   "pygments_lexer": "ipython3",
   "version": "3.7.4"
  }
 },
 "nbformat": 4,
 "nbformat_minor": 2
}
