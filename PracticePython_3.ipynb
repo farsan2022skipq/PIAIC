{
 "cells": [
  {
   "cell_type": "markdown",
   "metadata": {},
   "source": [
    "# Lists, Lists Functions and List slicing"
   ]
  },
  {
   "cell_type": "code",
   "execution_count": 1,
   "metadata": {},
   "outputs": [
    {
     "name": "stdout",
     "output_type": "stream",
     "text": [
      "[1, 2, 3, 4, 5, 6, 7]\n"
     ]
    }
   ],
   "source": [
    "list1 = [1,2,3,4,5,6,7]\n",
    "print(list1)"
   ]
  },
  {
   "cell_type": "code",
   "execution_count": 2,
   "metadata": {},
   "outputs": [
    {
     "data": {
      "text/plain": [
       "list"
      ]
     },
     "execution_count": 2,
     "metadata": {},
     "output_type": "execute_result"
    }
   ],
   "source": [
    "type(list1)"
   ]
  },
  {
   "cell_type": "code",
   "execution_count": 5,
   "metadata": {},
   "outputs": [
    {
     "name": "stdout",
     "output_type": "stream",
     "text": [
      "apple\n",
      "apple\n",
      "------------------------------\n",
      "grapes\n",
      "grapes\n"
     ]
    }
   ],
   "source": [
    "# We can also get values using negative indexing.\n",
    "#        [   0,      1,       2,        3]\n",
    "#        [   -4,      -3,       -2,        -1]  \n",
    "\n",
    "list2  = [\"apple\",\"orange\", \"banaana\",\"grapes\"]\n",
    "print(list2[0])\n",
    "print(list2[-4])\n",
    "print(\"------------------------------\")\n",
    "print(list2[-1])\n",
    "print(list2[3])"
   ]
  },
  {
   "cell_type": "markdown",
   "metadata": {},
   "source": [
    "##  List append() method"
   ]
  },
  {
   "cell_type": "code",
   "execution_count": 10,
   "metadata": {},
   "outputs": [
    {
     "name": "stdout",
     "output_type": "stream",
     "text": [
      "['apple', 'orange', 'banaana', 'grapes']\n",
      "grapes\n",
      "['apple', 'orange', 'banaana', 'grapes', 'MANGO']\n",
      "MANGO\n",
      "pine-apple\n",
      "['apple', 'orange', 'banaana', 'grapes', 'MANGO', 'pine-apple']\n"
     ]
    }
   ],
   "source": [
    "# We can also add values to the list using append method.\n",
    "list2  = [\"apple\",\"orange\", \"banaana\",\"grapes\"]\n",
    "print(list2)\n",
    "print(list2[-1])\n",
    "# Append() method by default adds the values in the last position.\n",
    "list2.append(\"MANGO\")\n",
    "print(list2)\n",
    "print(list2[-1])\n",
    "list2.append(\"pine-apple\")\n",
    "print(list2[-1])\n",
    "print(list2)"
   ]
  },
  {
   "cell_type": "markdown",
   "metadata": {},
   "source": [
    "## List remove() method\n",
    "- remove() removes the first occurance of the value to remove."
   ]
  },
  {
   "cell_type": "code",
   "execution_count": 14,
   "metadata": {},
   "outputs": [
    {
     "name": "stdout",
     "output_type": "stream",
     "text": [
      "[1, 2, 3, 4, 5, 6, 7]\n",
      "[1, 2, 3, 5, 6, 7]\n"
     ]
    }
   ],
   "source": [
    "list1 = [1,2,3,4,5,6,7]\n",
    "print(list1)\n",
    "list1.remove(4)\n",
    "print(list1)"
   ]
  },
  {
   "cell_type": "markdown",
   "metadata": {},
   "source": [
    "## List del keyword\n",
    "- We can also use the del keyword to delete the item from the list."
   ]
  },
  {
   "cell_type": "code",
   "execution_count": 22,
   "metadata": {},
   "outputs": [
    {
     "name": "stdout",
     "output_type": "stream",
     "text": [
      "[0, 1, 2, 3, 4, 5, 6, 7]\n",
      "[0, 1, 2, 3, 5, 6, 7]\n"
     ]
    }
   ],
   "source": [
    "list1 = [0,1,2,3,4,5,6,7]\n",
    "print(list1)\n",
    "del list1[4]\n",
    "print(list1)"
   ]
  },
  {
   "cell_type": "markdown",
   "metadata": {},
   "source": [
    "## List index() function\n",
    "- It is used to find the index of the value in the list."
   ]
  },
  {
   "cell_type": "code",
   "execution_count": 28,
   "metadata": {},
   "outputs": [
    {
     "name": "stdout",
     "output_type": "stream",
     "text": [
      "['apple', 'orange', 'banaana', 'grapes']\n",
      "The index of the banaana is : 2\n"
     ]
    }
   ],
   "source": [
    "#        [   0,      1,       2,         3]\n",
    "list2  = [\"apple\",\"orange\", \"banaana\",\"grapes\"]\n",
    "print(list2)\n",
    "\n",
    "print(f\"The index of the banaana is : {list2.index('banaana')}\")\n",
    "\n",
    "# If the value is not found the program crashtes.\n",
    "# print(list2.index('mango'))\n"
   ]
  },
  {
   "cell_type": "markdown",
   "metadata": {},
   "source": [
    "We also have len function to find the length."
   ]
  },
  {
   "cell_type": "code",
   "execution_count": 29,
   "metadata": {},
   "outputs": [
    {
     "name": "stdout",
     "output_type": "stream",
     "text": [
      "4\n"
     ]
    }
   ],
   "source": [
    "list2  = [\"apple\",\"orange\", \"banaana\",\"grapes\"]\n",
    "print(len(list2))"
   ]
  },
  {
   "cell_type": "markdown",
   "metadata": {},
   "source": [
    "## List sort() function"
   ]
  },
  {
   "cell_type": "code",
   "execution_count": 35,
   "metadata": {},
   "outputs": [
    {
     "name": "stdout",
     "output_type": "stream",
     "text": [
      "Unsorted List: ['apple', 'orange', 'banaana', 'grapes']\n",
      "Sorted list : ['apple', 'banaana', 'grapes', 'orange']\n"
     ]
    }
   ],
   "source": [
    "list2  = [\"apple\",\"orange\", \"banaana\",\"grapes\"]\n",
    "print(f\"Unsorted List: {list2}\")\n",
    "list2.sort()\n",
    "print(f\"Sorted list : {list2}\")"
   ]
  },
  {
   "cell_type": "code",
   "execution_count": 80,
   "metadata": {},
   "outputs": [
    {
     "name": "stdout",
     "output_type": "stream",
     "text": [
      "Enter the names of people attending party name1,name2,name3... : Wahaj,Nabeel,Adeel,Kibria,Talha,Raheel,Waqas,Wajahat\n"
     ]
    }
   ],
   "source": [
    "# Example problem:\n",
    "names = input(\"Enter the names of people attending party name1,name2,name3... : \")\n"
   ]
  },
  {
   "cell_type": "code",
   "execution_count": 100,
   "metadata": {},
   "outputs": [
    {
     "name": "stdout",
     "output_type": "stream",
     "text": [
      "<class 'list'>\n",
      "['Wahaj', 'Nabeel', 'Adeel', 'Kibria', 'Talha', 'Raheel', 'Waqas', 'Wajahat']\n",
      "['Adeel', 'Kibria', 'Nabeel', 'Raheel', 'Talha', 'Wahaj', 'Wajahat', 'Waqas']\n"
     ]
    }
   ],
   "source": [
    "v = list(names.split(\",\"))\n",
    "print(type(v))\n",
    "print(v)\n",
    "v.sort()\n",
    "print(v)\n",
    "# names.sort()\n",
    "# print(names)"
   ]
  },
  {
   "cell_type": "code",
   "execution_count": 101,
   "metadata": {},
   "outputs": [
    {
     "name": "stdout",
     "output_type": "stream",
     "text": [
      "<class 'list'>\n",
      "['Adeel', 'Kibria', 'Nabeel', 'Raheel', 'Talha', 'Wahaj', 'Wajaha', 'Waqas']\n"
     ]
    }
   ],
   "source": [
    "values = [ \"Wahaj\",\"Nabeel\",\"Adeel\",\"Kibria\",\"Talha\",\"Raheel\",\"Waqas\",\"Wajaha\"]\n",
    "print(type(values))\n",
    "values.sort()\n",
    "print(values)"
   ]
  },
  {
   "cell_type": "code",
   "execution_count": 16,
   "metadata": {},
   "outputs": [
    {
     "name": "stdout",
     "output_type": "stream",
     "text": [
      "['Wahaj', 'Nabeel', 'Adeel', 'Kibria', 'Talha', 'Raheel', 'Waqas', 'Grapes', 'Wajahat']\n"
     ]
    }
   ],
   "source": [
    "values = [ \"Wahaj\",\"Nabeel\",\"Adeel\",\"Kibria\",\"Talha\",\"Raheel\",\"Waqas\",\"Wajahat\"]\n",
    "values.insert(-1,\"Grapes\")\n",
    "print(values)"
   ]
  },
  {
   "cell_type": "markdown",
   "metadata": {},
   "source": [
    "# Join() method\n",
    "We should use **join()** method when concatenating two or more than two strings because it uses **less processing**.  "
   ]
  },
  {
   "cell_type": "code",
   "execution_count": 27,
   "metadata": {},
   "outputs": [
    {
     "name": "stdout",
     "output_type": "stream",
     "text": [
      "Hello there !..........Wajahat\n",
      "Hello there !..........Talha\n",
      "Hello there !..........Ali\n",
      "Hello there !..........Kibria\n",
      "Hello there !..........Waqas\n"
     ]
    }
   ],
   "source": [
    "names = [\"Wajahat\",\"Talha\",\"Ali\",\"Kibria\",\"Waqas\"]\n",
    "for name in names:\n",
    "    # print(\"Hello there !, \" + name)\n",
    "    print(\"..........\".join([\"Hello there !\",name])) # We can also use the join method for joining two strings.\n"
   ]
  },
  {
   "cell_type": "code",
   "execution_count": 30,
   "metadata": {},
   "outputs": [
    {
     "name": "stdout",
     "output_type": "stream",
     "text": [
      "Wajahat,Talha,Ali,Kibria,Waqas\n",
      "<class 'str'>\n"
     ]
    }
   ],
   "source": [
    "names = [\"Wajahat\",\"Talha\",\"Ali\",\"Kibria\",\"Waqas\"]\n",
    "print(\",\".join(names))\n",
    "new_string = \",\".join(names)\n",
    "print(type(new_string))"
   ]
  },
  {
   "cell_type": "code",
   "execution_count": 35,
   "metadata": {},
   "outputs": [
    {
     "name": "stdout",
     "output_type": "stream",
     "text": [
      "E:\\Microsoft Python\\Python files\n"
     ]
    }
   ],
   "source": [
    "location_of_files = \"E:\\Microsoft Python\\Python files\"\n",
    "print(location_of_files)"
   ]
  },
  {
   "cell_type": "code",
   "execution_count": 40,
   "metadata": {},
   "outputs": [
    {
     "name": "stdout",
     "output_type": "stream",
     "text": [
      "E:\\Microsoft Python\\Python files\\example.txt\n",
      "hello world ! \n"
     ]
    }
   ],
   "source": [
    "import os\n",
    "\n",
    "location_of_files = \"E:\\\\Microsoft Python\\\\Python files\" # We use double slashes to escape the next line code. \n",
    "file_name = \"example.txt\"\n",
    "print(location_of_files + \"\\\\\" + file_name )\n",
    "\n",
    "with open(os.path.join(location_of_files, file_name)) as file:\n",
    "    print(file.read())"
   ]
  },
  {
   "cell_type": "code",
   "execution_count": 44,
   "metadata": {},
   "outputs": [
    {
     "name": "stdout",
     "output_type": "stream",
     "text": [
      "Talha age is 22\n",
      "Talha age is 22\n",
      "Talha age is 22\n",
      "Talha age is 22\n"
     ]
    }
   ],
   "source": [
    "# Different formats for string concatination.\n",
    "\n",
    "name = \"Talha\"\n",
    "age = 22\n",
    "print(\"%s age is %d\" % (name,age))\n",
    "print(\"{0:s} age is {1:d}\".format(name,age))\n",
    "print(\"{} age is {}\".format(name,age))\n",
    "print(f\"{name} age is {age}\")"
   ]
  },
  {
   "cell_type": "markdown",
   "metadata": {},
   "source": []
  },
  {
   "cell_type": "markdown",
   "metadata": {},
   "source": [
    "# Differnce between Lists Comphrension and Generators expressions.\n",
    "The list is stored in memory(RAM) while the generators are not stored in memory.\n",
    "- Generators are memory efficient while the lists are faster."
   ]
  },
  {
   "cell_type": "code",
   "execution_count": 55,
   "metadata": {},
   "outputs": [
    {
     "name": "stdout",
     "output_type": "stream",
     "text": [
      "[0, 1, 2, 3]\n",
      "<generator object <genexpr> at 0x00000241464DACC8>\n",
      "0\n",
      "1\n",
      "2\n",
      "3\n"
     ]
    }
   ],
   "source": [
    "# List Comphernsions.\n",
    "\n",
    "xyz = [ i for i in range(0,4) ]\n",
    "print(xyz)\n",
    "\n",
    "# Generator Expressions.\n",
    "\n",
    "xyz = ( i for i in range(0,4) )\n",
    "print(xyz)\n",
    "\n",
    "# Gernerators are itreatable objects.\n",
    "\n",
    "for i in xyz:\n",
    "    print(i)\n"
   ]
  },
  {
   "cell_type": "code",
   "execution_count": 56,
   "metadata": {},
   "outputs": [
    {
     "name": "stdout",
     "output_type": "stream",
     "text": [
      "{1, 2, 3, 4}\n",
      "<class 'set'>\n",
      "[1, 2, 3, 4]\n",
      "<class 'list'>\n",
      "(1, 2, 3, 4)\n",
      "<class 'tuple'>\n"
     ]
    }
   ],
   "source": [
    "# Sets are unique values and can be modified.\n",
    "s = {1,2,3,3,2,4}\n",
    "print(s)\n",
    "print(type(s))\n",
    "\n",
    "# Lists are changeable and can be modified\n",
    "s = [1,2,3,4]\n",
    "print(s)\n",
    "\n",
    "print(type(s))\n",
    "\n",
    "# tuples cannot be changed or modified\n",
    "s = (1,2,3,4)\n",
    "print(s)\n",
    "print(type(s))\n"
   ]
  },
  {
   "cell_type": "code",
   "execution_count": 78,
   "metadata": {},
   "outputs": [],
   "source": [
    "# Example the numbers that are divisible by five.\n",
    "\n",
    "list_input = [50,5,6,45,56,34,55,100,5050,3,4]\n",
    "\n",
    "def div_by_five(num):\n",
    "    if (num % 5) == 0:\n",
    "        return True\n",
    "    else:\n",
    "        return False\n",
    "\n",
    "xyz = ( i for i in list_input if div_by_five(i) )\n",
    "\n",
    "# Below is explanation of the code written above works.\n",
    "\n",
    "# xyz = []\n",
    "# for i in list_input():\n",
    "#     if div_by_five(i):\n",
    "#         xyz.append(i)\n",
    "\n",
    "# Below Gerators are iteratable.\n",
    "# for i in xyz:\n",
    "#     print(i)\n",
    "\n",
    "# [ print(i) for i in xyz]\n",
    "\n"
   ]
  },
  {
   "cell_type": "code",
   "execution_count": 79,
   "metadata": {},
   "outputs": [
    {
     "name": "stdout",
     "output_type": "stream",
     "text": [
      "<generator object <genexpr> at 0x0000024145F311C8>\n",
      "[50, 5, 45, 55, 100, 5050]\n"
     ]
    }
   ],
   "source": [
    "# xyz is a gerator object.\n",
    "print(xyz)\n",
    "\n",
    "# Below is the list comphrension code.\n",
    "xyz = [ i for i in list_input if div_by_five(i) ] # This code is makeing the list of the numbers divisible by five.\n",
    "print(xyz)\n"
   ]
  },
  {
   "cell_type": "code",
   "execution_count": 88,
   "metadata": {},
   "outputs": [
    {
     "name": "stdout",
     "output_type": "stream",
     "text": [
      "<generator object <genexpr> at 0x0000024145F312C8>\n",
      "[[(0, 0), (1, 0), (2, 0), (3, 0), (4, 0)], [(0, 1), (1, 1), (2, 1), (3, 1), (4, 1)], [(0, 2), (1, 2), (2, 2), (3, 2), (4, 2)], [(0, 3), (1, 3), (2, 3), (3, 3), (4, 3)], [(0, 4), (1, 4), (2, 4), (3, 4), (4, 4)]]\n"
     ]
    }
   ],
   "source": [
    "list_input = [50,5,6,45,56,34,55,100,5050,3,4]\n",
    "\n",
    "def div_by_five(num):\n",
    "    if (num % 5) == 0:\n",
    "        return True\n",
    "    else:\n",
    "        return False\n",
    "\n",
    "xyz = [ i for i in list_input if div_by_five(i) ]\n",
    "\n",
    "\n",
    "# xyz = [[(i,ii) for i in range(5)] for ii in range(5)] # list of tuples.\n",
    "# xyz = [[[i,ii] for i in range(5)] for ii in range(5)] # list of lists.\n",
    "xyz = ( [(i,ii) for i in range(5)] for ii in range(5) ) # Generator Object and we can iterate over it.\n",
    "print(xyz)\n",
    "\n",
    "print([i for i in xyz])"
   ]
  },
  {
   "cell_type": "code",
   "execution_count": 91,
   "metadata": {},
   "outputs": [
    {
     "name": "stdout",
     "output_type": "stream",
     "text": [
      "<generator object <genexpr> at 0x000002414686B148>\n",
      "(0, 0)\n",
      "(1, 0)\n",
      "(2, 0)\n",
      "(3, 0)\n",
      "(4, 0)\n",
      "(0, 1)\n",
      "(1, 1)\n",
      "(2, 1)\n",
      "(3, 1)\n",
      "(4, 1)\n",
      "(0, 2)\n",
      "(1, 2)\n",
      "(2, 2)\n",
      "(3, 2)\n",
      "(4, 2)\n",
      "(0, 3)\n",
      "(1, 3)\n",
      "(2, 3)\n",
      "(3, 3)\n",
      "(4, 3)\n",
      "(0, 4)\n",
      "(1, 4)\n",
      "(2, 4)\n",
      "(3, 4)\n",
      "(4, 4)\n"
     ]
    }
   ],
   "source": [
    "# Generator Expressions.\n",
    "\n",
    "xyz = ( ((i,ii) for i in range(0,5)) for ii in range(0,5)) # Always remember generators are not stored in RAM.\n",
    "print(xyz)\n",
    "for i in xyz:\n",
    "    for ii in i:\n",
    "        print(ii)"
   ]
  },
  {
   "cell_type": "code",
   "execution_count": 97,
   "metadata": {},
   "outputs": [
    {
     "name": "stdout",
     "output_type": "stream",
     "text": [
      "<generator object <genexpr> at 0x000002414686B2C8>\n",
      "0\n",
      "1\n",
      "2\n",
      "3\n",
      "4\n"
     ]
    }
   ],
   "source": [
    "xyz = (print(i) for i in range(0,5))\n",
    "print(xyz)\n",
    "\n",
    "# We did not have to use print statement because its already in gerator object.\n",
    "for i in xyz:\n",
    "    i"
   ]
  },
  {
   "cell_type": "code",
   "execution_count": null,
   "metadata": {},
   "outputs": [],
   "source": []
  },
  {
   "cell_type": "code",
   "execution_count": null,
   "metadata": {},
   "outputs": [],
   "source": []
  }
 ],
 "metadata": {
  "kernelspec": {
   "display_name": "Python 3",
   "language": "python",
   "name": "python3"
  },
  "language_info": {
   "codemirror_mode": {
    "name": "ipython",
    "version": 3
   },
   "file_extension": ".py",
   "mimetype": "text/x-python",
   "name": "python",
   "nbconvert_exporter": "python",
   "pygments_lexer": "ipython3",
   "version": "3.7.4"
  }
 },
 "nbformat": 4,
 "nbformat_minor": 2
}
