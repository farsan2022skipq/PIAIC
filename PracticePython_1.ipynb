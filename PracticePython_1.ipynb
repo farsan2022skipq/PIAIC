{
 "cells": [
  {
   "cell_type": "markdown",
   "metadata": {},
   "source": [
    "# Python Preparation 1"
   ]
  },
  {
   "cell_type": "code",
   "execution_count": 1,
   "metadata": {},
   "outputs": [
    {
     "name": "stdout",
     "output_type": "stream",
     "text": [
      "Hello World\n"
     ]
    }
   ],
   "source": [
    "# Print() is use to print or display things on the screen.\n",
    "\n",
    "# We can use single quotes as well as double quotes to print strings.\n",
    "# /n is used to move to next line in string statements.\n",
    "\n",
    "print(\"Hello World\")"
   ]
  },
  {
   "cell_type": "code",
   "execution_count": 2,
   "metadata": {},
   "outputs": [
    {
     "name": "stdout",
     "output_type": "stream",
     "text": [
      "My name is Wajaht Muhammad\n",
      "And I am Pakistani\n",
      "Pakistan Zinda Bad !\n",
      "\n"
     ]
    }
   ],
   "source": [
    "# We can also use the triple double or single quotes for printing string in multiple lines.\n",
    "\n",
    "print(\"\"\"My name is Wajaht Muhammad\n",
    "And I am Pakistani\n",
    "Pakistan Zinda Bad !\n",
    "\"\"\")"
   ]
  },
  {
   "cell_type": "code",
   "execution_count": 3,
   "metadata": {},
   "outputs": [
    {
     "ename": "NameError",
     "evalue": "name 'Print' is not defined",
     "output_type": "error",
     "traceback": [
      "\u001b[1;31m---------------------------------------------------------------------------\u001b[0m",
      "\u001b[1;31mNameError\u001b[0m                                 Traceback (most recent call last)",
      "\u001b[1;32m<ipython-input-3-42fc41ef9f45>\u001b[0m in \u001b[0;36m<module>\u001b[1;34m\u001b[0m\n\u001b[0;32m      1\u001b[0m \u001b[1;31m# Python is a case sensitive language so be carefull.\u001b[0m\u001b[1;33m\u001b[0m\u001b[1;33m\u001b[0m\u001b[1;33m\u001b[0m\u001b[0m\n\u001b[1;32m----> 2\u001b[1;33m \u001b[0mPrint\u001b[0m\u001b[1;33m(\u001b[0m\u001b[1;34m\"Pakistan zinda bad\"\u001b[0m\u001b[1;33m)\u001b[0m\u001b[1;33m\u001b[0m\u001b[1;33m\u001b[0m\u001b[0m\n\u001b[0m",
      "\u001b[1;31mNameError\u001b[0m: name 'Print' is not defined"
     ]
    }
   ],
   "source": [
    "# Python is a case sensitive language so be carefull.\n",
    "Print(\"Pakistan zinda bad\")"
   ]
  },
  {
   "cell_type": "code",
   "execution_count": 4,
   "metadata": {},
   "outputs": [
    {
     "name": "stdout",
     "output_type": "stream",
     "text": [
      "\n",
      "There once was a movie star icon\n",
      "who preferred to sleep with the light on.\n",
      "They learned how to code\n",
      "a device that sure glowed\n",
      "and lit up the night using Python!\n",
      "\n"
     ]
    }
   ],
   "source": [
    "print(\"\"\"\n",
    "There once was a movie star icon\n",
    "who preferred to sleep with the light on.\n",
    "They learned how to code\n",
    "a device that sure glowed\n",
    "and lit up the night using Python!\n",
    "\"\"\")"
   ]
  },
  {
   "cell_type": "code",
   "execution_count": 5,
   "metadata": {},
   "outputs": [
    {
     "name": "stdout",
     "output_type": "stream",
     "text": [
      "7\n"
     ]
    }
   ],
   "source": [
    "# There are multiple math operators.\n",
    "# Math rules does not change in programming.\n",
    "# We use same PEMDAS rule in python\n",
    "# Paraenthesis -- Exponent -- Multiplication -- Division -- Addition -- Substraction.\n",
    "print( (2+4)*2-5 ) # 2+4 = 6*2 = 12-5 = 7"
   ]
  },
  {
   "cell_type": "markdown",
   "metadata": {},
   "source": [
    "# % Formators in Python\n",
    "\n",
    "#### link for reading : https://thepythonguru.com/python-string-formatting/\n",
    "\n",
    "### New and Old version of formatting.\n",
    "- \"{%s} {%s}\" .format(\"dog\", \"cat\")\n",
    "- \"%s %s\" % (\"dog\", \"cat\")"
   ]
  },
  {
   "cell_type": "code",
   "execution_count": 6,
   "metadata": {},
   "outputs": [
    {
     "name": "stdout",
     "output_type": "stream",
     "text": [
      "I have 6 cats\n",
      "I have          5 cats\n",
      "I have 0000000010 dogs \n",
      "I have 00020 cars\n",
      "I have 20.000000 cars\n"
     ]
    }
   ],
   "source": [
    "# Some times we use % formators to formate the data.\n",
    "print(\"I have %d cats\" % 6)\n",
    "print(\"I have %10d cats\" % 5) # The number after %3 is use to determine the spaces if empty.\n",
    "print(\"I have %010d dogs \" % 10)\n",
    "print(\"I have %05d cars\" % 20)\n",
    "print(\"I have %2f cars\" % 20)"
   ]
  },
  {
   "cell_type": "code",
   "execution_count": 7,
   "metadata": {},
   "outputs": [
    {
     "name": "stdout",
     "output_type": "stream",
     "text": [
      "I have 90.000000 cats\n"
     ]
    }
   ],
   "source": [
    "print(\"I have %3f cats\" % 90)"
   ]
  },
  {
   "cell_type": "code",
   "execution_count": 8,
   "metadata": {},
   "outputs": [
    {
     "name": "stdout",
     "output_type": "stream",
     "text": [
      "I have 2.0000 cats\n"
     ]
    }
   ],
   "source": [
    "print(\"I have %0.4f cats\" % 2)"
   ]
  },
  {
   "cell_type": "code",
   "execution_count": 9,
   "metadata": {},
   "outputs": [
    {
     "name": "stdout",
     "output_type": "stream",
     "text": [
      "I have 2 dogs\n"
     ]
    }
   ],
   "source": [
    "print(\"I have %s dogs\" % 2)"
   ]
  },
  {
   "cell_type": "code",
   "execution_count": 10,
   "metadata": {},
   "outputs": [],
   "source": [
    "# There are many formators we can use %s %f %d %c %o %x %e"
   ]
  },
  {
   "cell_type": "code",
   "execution_count": null,
   "metadata": {},
   "outputs": [],
   "source": []
  },
  {
   "cell_type": "code",
   "execution_count": 11,
   "metadata": {},
   "outputs": [
    {
     "name": "stdout",
     "output_type": "stream",
     "text": [
      "New format\n",
      "31 12 \n",
      "12 31 \n",
      "Old format\n",
      "12 31\n"
     ]
    }
   ],
   "source": [
    "print(\"New format\")\n",
    "\n",
    "print(\"{1:d} {0:d} \".format(12, 31)) # New version of formatting.\n",
    "print(\"{0:d} {1:d} \".format(12, 31)) # New version of formatting.\n",
    "\n",
    "print(\"Old format\")\n",
    "\n",
    "print(\"%d %d\" % (12, 31)) # Old version of foramtting data."
   ]
  },
  {
   "cell_type": "code",
   "execution_count": 12,
   "metadata": {},
   "outputs": [
    {
     "name": "stdout",
     "output_type": "stream",
     "text": [
      "100 200\n",
      "dog cat\n",
      "9.00 0.04\n"
     ]
    }
   ],
   "source": [
    "print(\"{0:d} {1:d}\".format(100,200))\n",
    "print(\"{0:s} {1:s}\".format(\"dog\",\"cat\"))\n",
    "print(\"{0:0.2f} {1:0.2f}\".format(9.00,0.03678))"
   ]
  },
  {
   "cell_type": "code",
   "execution_count": 13,
   "metadata": {},
   "outputs": [
    {
     "name": "stdout",
     "output_type": "stream",
     "text": [
      "I have a dog and a cat\n"
     ]
    }
   ],
   "source": [
    "# Example of old version, We use % sign in ild version of formatting.\n",
    "print(\"I have a %s and a %s\" % (\"dog\",\"cat\"))"
   ]
  },
  {
   "cell_type": "code",
   "execution_count": 14,
   "metadata": {},
   "outputs": [
    {
     "name": "stdout",
     "output_type": "stream",
     "text": [
      "I have a 12 and a 31\n",
      "100 200\n"
     ]
    }
   ],
   "source": [
    "# Example of new version, We only use the formatter keyword for formatting in new version.\n",
    "\n",
    "print(\"I have a {0:d} and a {1:d}\".format(12, 31))\n",
    "print(\"{0:d} {1:d}\".format(100,200))\n",
    "\n"
   ]
  },
  {
   "cell_type": "code",
   "execution_count": 15,
   "metadata": {},
   "outputs": [
    {
     "name": "stdout",
     "output_type": "stream",
     "text": [
      "This is a new program of 1 lines\n"
     ]
    }
   ],
   "source": [
    "print(\"This is a new program of %d lines\" % 1)"
   ]
  },
  {
   "cell_type": "code",
   "execution_count": 16,
   "metadata": {},
   "outputs": [
    {
     "name": "stdout",
     "output_type": "stream",
     "text": [
      "This is a 1 line program\n"
     ]
    }
   ],
   "source": [
    "print(\"This is a {0:d} line program\".format(1))"
   ]
  },
  {
   "cell_type": "code",
   "execution_count": 17,
   "metadata": {},
   "outputs": [
    {
     "name": "stdout",
     "output_type": "stream",
     "text": [
      "My name is Wajahat Muhammad and my age is 24\n"
     ]
    }
   ],
   "source": [
    "# In the latest version of python we use f\" \" string for formatting data.\n",
    "\n",
    "name = \"Wajahat Muhammad\"\n",
    "age = 24\n",
    "print(f\"My name is {name} and my age is {age}\")"
   ]
  },
  {
   "cell_type": "code",
   "execution_count": 18,
   "metadata": {},
   "outputs": [
    {
     "name": "stdout",
     "output_type": "stream",
     "text": [
      "My name is Wajahat Muhammad and my age is 23\n"
     ]
    }
   ],
   "source": [
    "# Showing all version of python string formatting.\n",
    "# Oldest version of formatting using (%) operator.\n",
    "print(\"My name is %s and my age is %d\" % (\"Wajahat Muhammad\", 23))"
   ]
  },
  {
   "cell_type": "code",
   "execution_count": 19,
   "metadata": {},
   "outputs": [
    {
     "name": "stdout",
     "output_type": "stream",
     "text": [
      "My name is Wajahat Muhammad and my age is 24\n"
     ]
    }
   ],
   "source": [
    "# This is the new version of formatting string after (%) operator. In this version we removed the (%) formator.\n",
    "print(\"My name is {0:s} and my age is {1:d}\".format(\"Wajahat Muhammad\",24))"
   ]
  },
  {
   "cell_type": "markdown",
   "metadata": {},
   "source": [
    "### Some times commands are too long to fit on a single line so we use (/) operator to show command continues."
   ]
  },
  {
   "cell_type": "code",
   "execution_count": 20,
   "metadata": {},
   "outputs": [
    {
     "name": "stdout",
     "output_type": "stream",
     "text": [
      " I am a engineering graduate from comsats university. I have done my bachelors in Computer Engineering\n"
     ]
    }
   ],
   "source": [
    "# Here are few examples of it.\n",
    "print(\" I am a engineering graduate from comsats university. \\\n",
    "I have done my bachelors in Computer Engineering\")"
   ]
  },
  {
   "cell_type": "code",
   "execution_count": 21,
   "metadata": {},
   "outputs": [
    {
     "name": "stdout",
     "output_type": "stream",
     "text": [
      "14\n",
      "10\n"
     ]
    }
   ],
   "source": [
    "total = 2+3+5*(2-1)\\\n",
    "+4\n",
    "print(total)\n",
    "# We can also use (\\) operator on math operations.\n",
    "print(2+3\\\n",
    "+5)"
   ]
  },
  {
   "cell_type": "markdown",
   "metadata": {},
   "source": [
    "# Taking data from users.\n",
    "We use input() function for taking data from users.\n",
    "### Important Note: --> input() function always returns data in string format."
   ]
  },
  {
   "cell_type": "code",
   "execution_count": 22,
   "metadata": {},
   "outputs": [
    {
     "name": "stdout",
     "output_type": "stream",
     "text": [
      "<class 'int'>\n",
      "<class 'bool'>\n",
      "<class 'float'>\n",
      "<class 'str'>\n"
     ]
    }
   ],
   "source": [
    "# We use type function to determine the type of data.\n",
    "# type()\n",
    "\n",
    "print(type(23))                      #  int\n",
    "print(type(True))                    # bool\n",
    "print(type(23.444))                  #  float or double\n",
    "print(type(\"this is string\"))        #  string"
   ]
  },
  {
   "cell_type": "code",
   "execution_count": 23,
   "metadata": {},
   "outputs": [
    {
     "name": "stdout",
     "output_type": "stream",
     "text": [
      "<class 'int'>\n",
      "Enter your name: wajahat\n",
      "<class 'str'>\n",
      "Enter your age: 24\n",
      "<class 'str'>\n"
     ]
    }
   ],
   "source": [
    "# We use type function to determine the type of data.\n",
    "# type()\n",
    "\n",
    "print(type(23))\n",
    "\n",
    "name = input(\"Enter your name: \")\n",
    "print(type(name))\n",
    "\n",
    "# As you can see in below example the input function returns the values as string.\n",
    "\n",
    "age = input(\"Enter your age: \")\n",
    "print(type(age))"
   ]
  },
  {
   "cell_type": "markdown",
   "metadata": {},
   "source": [
    "# Conversions form one type to another.\n",
    "There are many functions to convert data from one type to another.\\\n",
    "- int()\n",
    "- long()\n",
    "- float()\n",
    "- str()"
   ]
  },
  {
   "cell_type": "code",
   "execution_count": 24,
   "metadata": {},
   "outputs": [
    {
     "name": "stdout",
     "output_type": "stream",
     "text": [
      "<class 'int'>\n",
      "<class 'float'>\n",
      "<class 'str'>\n"
     ]
    }
   ],
   "source": [
    "age = 23\n",
    "print(type(age))\n",
    "print(type(float(age))) # Float function converts int to float type.\n",
    "print(type(str(age))) # Float function converts int to string type."
   ]
  },
  {
   "cell_type": "markdown",
   "metadata": {},
   "source": [
    "# String Concatination"
   ]
  },
  {
   "cell_type": "code",
   "execution_count": 25,
   "metadata": {},
   "outputs": [
    {
     "name": "stdout",
     "output_type": "stream",
     "text": [
      "Wajahat Muhammad\n",
      "Wajahat Muhammad\n"
     ]
    }
   ],
   "source": [
    "# We can use (+) operator for string concatenation.\n",
    "first_name = \"Wajahat\"\n",
    "last_name = \" Muhammad\"\n",
    "print(first_name + last_name)\n",
    "\n",
    "full_name = first_name + last_name\n",
    "print(full_name)"
   ]
  },
  {
   "cell_type": "markdown",
   "metadata": {},
   "source": [
    "# String Functions."
   ]
  },
  {
   "cell_type": "code",
   "execution_count": 26,
   "metadata": {},
   "outputs": [
    {
     "name": "stdout",
     "output_type": "stream",
     "text": [
      "wajahat\n",
      "WAJAHAT\n"
     ]
    }
   ],
   "source": [
    "lower_name = \"wajahat\"\n",
    "print(lower_name)\n",
    "upper_name = lower_name.upper()\n",
    "print(upper_name)"
   ]
  },
  {
   "cell_type": "code",
   "execution_count": 27,
   "metadata": {},
   "outputs": [
    {
     "name": "stdout",
     "output_type": "stream",
     "text": [
      "hELLO wORLD\n"
     ]
    }
   ],
   "source": [
    "# swapcase()\n",
    "\n",
    "message = \"Hello World\"\n",
    "print(message.swapcase())"
   ]
  },
  {
   "cell_type": "code",
   "execution_count": 28,
   "metadata": {},
   "outputs": [
    {
     "name": "stdout",
     "output_type": "stream",
     "text": [
      "Hello world\n",
      "6\n",
      "2\n",
      "Hi World\n"
     ]
    }
   ],
   "source": [
    "message = \"Hello World\"\n",
    "print(message.capitalize())\n",
    "print(message.find(\"World\"))\n",
    "print(message.count('o'))\n",
    "print(message.replace(\"Hello\",\"Hi\"))"
   ]
  },
  {
   "cell_type": "markdown",
   "metadata": {},
   "source": [
    "# Making decisions with Code.\n",
    "- if statements\n",
    "- else statements\n",
    "- elif statements"
   ]
  },
  {
   "cell_type": "markdown",
   "metadata": {},
   "source": [
    "### There are differnet condtional operators we use .\n",
    "- ==\n",
    "- <\n",
    "- />\n",
    "- <>\n",
    "- <=\n",
    "- />=\n",
    "- !="
   ]
  },
  {
   "cell_type": "code",
   "execution_count": 29,
   "metadata": {},
   "outputs": [
    {
     "name": "stdout",
     "output_type": "stream",
     "text": [
      "This will always run.\n",
      "This will also always run.\n"
     ]
    }
   ],
   "source": [
    "if True:\n",
    "    print(\"This will always run.\")\n",
    "if True:\n",
    "    print(\"This will also always run.\")"
   ]
  },
  {
   "cell_type": "code",
   "execution_count": 30,
   "metadata": {},
   "outputs": [
    {
     "name": "stdout",
     "output_type": "stream",
     "text": [
      "This will always run\n"
     ]
    }
   ],
   "source": [
    "if not False:\n",
    "    print(\"This will always run\")"
   ]
  },
  {
   "cell_type": "code",
   "execution_count": 31,
   "metadata": {},
   "outputs": [
    {
     "name": "stdout",
     "output_type": "stream",
     "text": [
      "If if statement fails else statement will run.\n"
     ]
    }
   ],
   "source": [
    "if False:\n",
    "    print(\"This will not run\")\n",
    "else:\n",
    "    print(\"If if statement fails else statement will run.\")"
   ]
  },
  {
   "cell_type": "code",
   "execution_count": 32,
   "metadata": {},
   "outputs": [
    {
     "name": "stdout",
     "output_type": "stream",
     "text": [
      "This will run on true.\n"
     ]
    }
   ],
   "source": [
    "if not False:\n",
    "    print(\"This will run on true.\")\n",
    "else:\n",
    "    print(\"If if statement fails else statement will run.\")"
   ]
  },
  {
   "cell_type": "markdown",
   "metadata": {},
   "source": [
    "# Differnece between (is) and (==):\n",
    "#### link for reading: https://www.geeksforgeeks.org/difference-operator-python/\n",
    "\n",
    "- The \"==\" operator compares the values of both the operands and checks for value equality.\n",
    "-  \"is\" operator checks whether both the operands refer to the same object or not. "
   ]
  },
  {
   "cell_type": "code",
   "execution_count": 33,
   "metadata": {},
   "outputs": [
    {
     "name": "stdout",
     "output_type": "stream",
     "text": [
      "1\n",
      "3\n",
      "4\n"
     ]
    }
   ],
   "source": [
    "list1 = []\n",
    "list2 = []\n",
    "list3 = list1\n",
    "\n",
    "if list1 == list2:\n",
    "    print(\"1\")\n",
    "if list2 is list1:\n",
    "    print(\"2\")\n",
    "if list3 is list1:\n",
    "    print(\"3\")\n",
    "if list1 == list3:\n",
    "    print(4)"
   ]
  },
  {
   "cell_type": "code",
   "execution_count": 36,
   "metadata": {},
   "outputs": [
    {
     "name": "stdout",
     "output_type": "stream",
     "text": [
      "Enter the amount for your total purchase: 10\n",
      "Your total bill is : 20.00 $\n"
     ]
    }
   ],
   "source": [
    "# Programe to calculate the total charges for shopkepper.\n",
    "\n",
    "total_purchase = float(input(\"Enter the amount for your total purchase: \"))\n",
    "\n",
    "if total_purchase < 50:\n",
    "    total_purchase +=10\n",
    "    print(\"Your total bill is : %.2f $\" % total_purchase)\n",
    "\n",
    "else:\n",
    "    print(\"Your total bill is : {0:.2f}$\".format(total_purchase))\n",
    "\n",
    "    "
   ]
  },
  {
   "cell_type": "markdown",
   "metadata": {},
   "source": [
    "# Elif statements:\n",
    "we can use [and] and [or] operators also in conditional statements for checking.\n",
    "\n",
    "### Important Note: --> [and] statement is evaluated before [or] statement\n",
    "#### We can use parenthesis () to manipulate the order of evaluation."
   ]
  },
  {
   "cell_type": "code",
   "execution_count": 37,
   "metadata": {},
   "outputs": [
    {
     "name": "stdout",
     "output_type": "stream",
     "text": [
      "Enter your country name :Pakistan\n",
      "Assalam o Aliakum\n"
     ]
    }
   ],
   "source": [
    "# We also have else if statment for multiple conditions.\n",
    "\n",
    "country = input(\"Enter your country name :\").capitalize()\n",
    "if country == \"Pakistan\":\n",
    "    print(\"Assalam o Aliakum\")\n",
    "elif country == \"France\":\n",
    "    print(\"Bonjour\")\n",
    "elif country == \"Germany\":\n",
    "    print(\"Guten\")\n",
    "else:\n",
    "    print(\"Hello\")"
   ]
  },
  {
   "cell_type": "code",
   "execution_count": 48,
   "metadata": {},
   "outputs": [
    {
     "name": "stdout",
     "output_type": "stream",
     "text": [
      "Enter the total amount : 100\n",
      "Enter your Country: Pakistan\n",
      "Enter your Provience: Islamabad\n",
      "Your total bill is 113.0\n"
     ]
    }
   ],
   "source": [
    "total_amount = input(\"Enter the total amount : \")\n",
    "total_amount = int(total_amount)\n",
    "country = input(\"Enter your Country: \").capitalize()\n",
    "if country == \"Pakistan\":\n",
    "    prov = input(\"Enter your Provience: \").capitalize()\n",
    "    if prov == \"Islamabad\" or prov == \"Rawalpindi\":\n",
    "        total_amount = total_amount + (total_amount * 0.13)\n",
    "        print(\"Your total bill is {}\".format(total_amount))\n",
    "    if prov == \"Karachi\" or prov == \"Lahore\":\n",
    "        total_amount = total_amount + (total_amount * 0.05)\n",
    "        print(\"Your Total bill is : {}\".format(total_amount))        \n",
    "else:\n",
    "    print(\"Your Total bill is : {}\".format(total_amount))"
   ]
  },
  {
   "cell_type": "code",
   "execution_count": null,
   "metadata": {},
   "outputs": [],
   "source": []
  }
 ],
 "metadata": {
  "kernelspec": {
   "display_name": "Python 3",
   "language": "python",
   "name": "python3"
  },
  "language_info": {
   "codemirror_mode": {
    "name": "ipython",
    "version": 3
   },
   "file_extension": ".py",
   "mimetype": "text/x-python",
   "name": "python",
   "nbconvert_exporter": "python",
   "pygments_lexer": "ipython3",
   "version": "3.7.4"
  }
 },
 "nbformat": 4,
 "nbformat_minor": 2
}
