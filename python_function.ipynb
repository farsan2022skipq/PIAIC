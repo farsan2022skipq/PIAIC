{
 "cells": [
  {
   "cell_type": "markdown",
   "metadata": {},
   "source": [
    "# Python Functions"
   ]
  },
  {
   "cell_type": "code",
   "execution_count": 1,
   "metadata": {},
   "outputs": [],
   "source": [
    "def my_func():\n",
    "    print('This is a function !') "
   ]
  },
  {
   "cell_type": "code",
   "execution_count": 2,
   "metadata": {
    "scrolled": true
   },
   "outputs": [
    {
     "name": "stdout",
     "output_type": "stream",
     "text": [
      "This is a function !\n"
     ]
    }
   ],
   "source": [
    "my_func()"
   ]
  },
  {
   "cell_type": "markdown",
   "metadata": {},
   "source": [
    "# Predefined Function\n",
    "90\n",
    "Already builtin functions\n"
   ]
  },
  {
   "cell_type": "code",
   "execution_count": 3,
   "metadata": {},
   "outputs": [
    {
     "name": "stdout",
     "output_type": "stream",
     "text": [
      "abc\n",
      "8\n",
      "<class 'int'>\n",
      "2290312349808\n"
     ]
    }
   ],
   "source": [
    "print('abc')\n",
    "print(len('sjdkfhsj'))\n",
    "print(type(22))\n",
    "print(id('aa'))"
   ]
  },
  {
   "cell_type": "markdown",
   "metadata": {},
   "source": [
    "# User defined Function\n",
    "\n",
    "Functions that a programmer write to do specfic tasks."
   ]
  },
  {
   "cell_type": "code",
   "execution_count": 4,
   "metadata": {},
   "outputs": [
    {
     "name": "stdout",
     "output_type": "stream",
     "text": [
      "Pakistan Zinda Bad\n",
      "We are Pakistani\n",
      "We love our country\n"
     ]
    }
   ],
   "source": [
    "print('Pakistan Zinda Bad')\n",
    "print('We are Pakistani')\n",
    "print('We love our country')\n"
   ]
  },
  {
   "cell_type": "code",
   "execution_count": 5,
   "metadata": {},
   "outputs": [],
   "source": [
    "# Defineing a function ! \n",
    "\n",
    "def pakistani():\n",
    "    print('Pakistan Zinda Bad')\n",
    "    print('We are Pakistani')\n",
    "    print('We love our country')\n"
   ]
  },
  {
   "cell_type": "code",
   "execution_count": 6,
   "metadata": {},
   "outputs": [
    {
     "name": "stdout",
     "output_type": "stream",
     "text": [
      "Pakistan Zinda Bad\n",
      "We are Pakistani\n",
      "We love our country\n"
     ]
    }
   ],
   "source": [
    "# Calling a function !\n",
    "pakistani()"
   ]
  },
  {
   "cell_type": "markdown",
   "metadata": {},
   "source": [
    "# Required Arguments"
   ]
  },
  {
   "cell_type": "code",
   "execution_count": 12,
   "metadata": {},
   "outputs": [],
   "source": [
    "def id_card(stud_id, stud_name, father_name, course, timing):\n",
    "    text = \"\"\"\n",
    "    PIAIC Islamabad\n",
    "    ID : {}\n",
    "    Name : {}\n",
    "    Father's Name : {}\n",
    "    Courses : {}\n",
    "    Timing : {}\n",
    "    \"\"\".format(stud_id, stud_name, father_name, course, timing)\n",
    "    print(text)"
   ]
  },
  {
   "cell_type": "code",
   "execution_count": 15,
   "metadata": {
    "scrolled": true
   },
   "outputs": [
    {
     "name": "stdout",
     "output_type": "stream",
     "text": [
      "\n",
      "    PIAIC Islamabad\n",
      "    ID : 1\n",
      "    Name : Wajahat\n",
      "    Father's Name : Muhammad Shah\n",
      "    Courses : AI for EveryOne\n",
      "    Timing : 9 to 12\n",
      "    \n",
      "\n",
      "    PIAIC Islamabad\n",
      "    ID : 2\n",
      "    Name : Haider Ali\n",
      "    Father's Name : Muhammad Ali\n",
      "    Courses : AI for EveryOne\n",
      "    Timing : 9 to 12\n",
      "    \n"
     ]
    }
   ],
   "source": [
    "id_card(1,\"Wajahat\", \"Muhammad Shah\", \"AI for EveryOne\", \"9 to 12\")\n",
    "id_card(2,\"Haider Ali\", \"Muhammad Ali\", \"AI for EveryOne\", \"9 to 12\")"
   ]
  },
  {
   "cell_type": "code",
   "execution_count": 21,
   "metadata": {},
   "outputs": [
    {
     "name": "stdout",
     "output_type": "stream",
     "text": [
      "\n",
      "    PIAIC Islamabad\n",
      "    ID : 1\n",
      "    Name : Wajahat\n",
      "    Father's Name : Muhammad Shah\n",
      "    Courses : AI for EveryOne\n",
      "    Timing : 9 to 12\n",
      "    \n",
      "\n",
      "    PIAIC Islamabad\n",
      "    ID : 2\n",
      "    Name : Haider Ali\n",
      "    Father's Name : Muhammad Ali\n",
      "    Courses : AI for EveryOne\n",
      "    Timing : 9 to 12\n",
      "    \n",
      "\n",
      "    PIAIC Islamabad\n",
      "    ID : 3\n",
      "    Name : Talha Ahmed\n",
      "    Father's Name : Muhammad Shah\n",
      "    Courses : AI for EveryOne\n",
      "    Timing : 9 to 12\n",
      "    \n",
      "\n",
      "    PIAIC Islamabad\n",
      "    ID : 4\n",
      "    Name : Wahaj Muhammad\n",
      "    Father's Name : Muhammad Shah\n",
      "    Courses : AI for EveryOne\n",
      "    Timing : 9 to 12\n",
      "    \n",
      "\n",
      "    PIAIC Islamabad\n",
      "    ID : 5\n",
      "    Name : Syed Zain Ali\n",
      "    Father's Name : Muhammad Zafar Iqbal\n",
      "    Courses : AI for EveryOne\n",
      "    Timing : 9 to 12\n",
      "    \n"
     ]
    }
   ],
   "source": [
    "data = [\n",
    "    [1,\"Wajahat\",\"Muhammad Shah\", \"AI for EveryOne\", \"9 to 12\"],\n",
    "    [2,\"Haider Ali\",\"Muhammad Ali\", \"AI for EveryOne\", \"9 to 12\"],\n",
    "    [3,\"Talha Ahmed\",\"Muhammad Shah\", \"AI for EveryOne\", \"9 to 12\"],\n",
    "    [4,\"Wahaj Muhammad\",\"Muhammad Shah\", \"AI for EveryOne\", \"9 to 12\"],\n",
    "    [5,\"Syed Zain Ali\",\"Muhammad Zafar Iqbal\", \"AI for EveryOne\", \"9 to 12\"],\n",
    "]\n",
    "for r in data:\n",
    "    id_card(*r)\n",
    "\n",
    "# try:\n",
    "#     id_card()\n",
    "# except TypeError:\n",
    "#     print(\"Arguments are Missing\")"
   ]
  },
  {
   "cell_type": "markdown",
   "metadata": {},
   "source": [
    "# Optional Arguments\n"
   ]
  },
  {
   "cell_type": "code",
   "execution_count": 27,
   "metadata": {},
   "outputs": [
    {
     "name": "stdout",
     "output_type": "stream",
     "text": [
      "5\n"
     ]
    }
   ],
   "source": [
    "# We have Assigned the default valuse for y and z !\n",
    "\n",
    "def abc(x,y=0,z=0):\n",
    "    print(x+y+z)\n",
    "    \n",
    "abc(5)\n",
    "    "
   ]
  },
  {
   "cell_type": "code",
   "execution_count": 28,
   "metadata": {
    "scrolled": true
   },
   "outputs": [
    {
     "name": "stdout",
     "output_type": "stream",
     "text": [
      "12\n"
     ]
    }
   ],
   "source": [
    "abc(5,7)"
   ]
  },
  {
   "cell_type": "code",
   "execution_count": 29,
   "metadata": {
    "scrolled": true
   },
   "outputs": [
    {
     "name": "stdout",
     "output_type": "stream",
     "text": [
      "30\n"
     ]
    }
   ],
   "source": [
    "abc(10,5,15)"
   ]
  },
  {
   "cell_type": "markdown",
   "metadata": {},
   "source": [
    "# Return Function"
   ]
  },
  {
   "cell_type": "code",
   "execution_count": 57,
   "metadata": {},
   "outputs": [],
   "source": [
    "def new():\n",
    "    return \"Qasim\",\"Wajahat\",\"Ali\""
   ]
  },
  {
   "cell_type": "code",
   "execution_count": 61,
   "metadata": {},
   "outputs": [
    {
     "name": "stdout",
     "output_type": "stream",
     "text": [
      "Ali\n"
     ]
    }
   ],
   "source": [
    "result = new()\n",
    "print(result[2])"
   ]
  },
  {
   "cell_type": "code",
   "execution_count": 62,
   "metadata": {},
   "outputs": [],
   "source": [
    "def abc(x=0,y=0,z=0):\n",
    "    return (x+(y*z))"
   ]
  },
  {
   "cell_type": "code",
   "execution_count": 66,
   "metadata": {},
   "outputs": [
    {
     "name": "stdout",
     "output_type": "stream",
     "text": [
      "0\n"
     ]
    }
   ],
   "source": [
    "print(abc())"
   ]
  },
  {
   "cell_type": "code",
   "execution_count": 67,
   "metadata": {},
   "outputs": [
    {
     "name": "stdout",
     "output_type": "stream",
     "text": [
      "7\n"
     ]
    }
   ],
   "source": [
    "print(abc(1,2,3))"
   ]
  },
  {
   "cell_type": "markdown",
   "metadata": {},
   "source": [
    "# KeyWord Arguments"
   ]
  },
  {
   "cell_type": "code",
   "execution_count": 93,
   "metadata": {},
   "outputs": [],
   "source": [
    "# def my_function(*arwgs,**karwgs):\n",
    "#     return arwgs, karwgs\n",
    "def new_func(id, timing,name=None):\n",
    "    return id,name,timing"
   ]
  },
  {
   "cell_type": "code",
   "execution_count": 95,
   "metadata": {},
   "outputs": [
    {
     "name": "stdout",
     "output_type": "stream",
     "text": [
      "(1, 'Wajahat Muhammad', '9 to`12')\n"
     ]
    }
   ],
   "source": [
    "result = new_func(1,\"9 to`12\",name=\"Wajahat Muhammad\")\n",
    "print(result)"
   ]
  },
  {
   "cell_type": "markdown",
   "metadata": {},
   "source": [
    "# Arguments with List"
   ]
  },
  {
   "cell_type": "code",
   "execution_count": 96,
   "metadata": {},
   "outputs": [],
   "source": [
    "def id_card(stud_id, stud_name, father_name, course, timing):\n",
    "    text = \"\"\"\n",
    "    PIAIC Islamabad\n",
    "    ID : {}\n",
    "    Name : {}\n",
    "    Father's Name : {}\n",
    "    Courses : {}\n",
    "    Timing : {}\n",
    "    \"\"\".format(stud_id, stud_name, father_name, course, timing)\n",
    "    print(text)"
   ]
  },
  {
   "cell_type": "code",
   "execution_count": 97,
   "metadata": {},
   "outputs": [
    {
     "name": "stdout",
     "output_type": "stream",
     "text": [
      "\n",
      "    PIAIC Islamabad\n",
      "    ID : 1\n",
      "    Name : Wajahat\n",
      "    Father's Name : Muhammad Shah\n",
      "    Courses : AI for EveryOne\n",
      "    Timing : 9 to 12\n",
      "    \n",
      "\n",
      "    PIAIC Islamabad\n",
      "    ID : 2\n",
      "    Name : Haider Ali\n",
      "    Father's Name : Muhammad Ali\n",
      "    Courses : AI for EveryOne\n",
      "    Timing : 9 to 12\n",
      "    \n",
      "\n",
      "    PIAIC Islamabad\n",
      "    ID : 3\n",
      "    Name : Talha Ahmed\n",
      "    Father's Name : Muhammad Shah\n",
      "    Courses : AI for EveryOne\n",
      "    Timing : 9 to 12\n",
      "    \n",
      "\n",
      "    PIAIC Islamabad\n",
      "    ID : 4\n",
      "    Name : Wahaj Muhammad\n",
      "    Father's Name : Muhammad Shah\n",
      "    Courses : AI for EveryOne\n",
      "    Timing : 9 to 12\n",
      "    \n",
      "\n",
      "    PIAIC Islamabad\n",
      "    ID : 5\n",
      "    Name : Syed Zain Ali\n",
      "    Father's Name : Muhammad Zafar Iqbal\n",
      "    Courses : AI for EveryOne\n",
      "    Timing : 9 to 12\n",
      "    \n"
     ]
    }
   ],
   "source": [
    "data = [\n",
    "    [1,\"Wajahat\",\"Muhammad Shah\", \"AI for EveryOne\", \"9 to 12\"],\n",
    "    [2,\"Haider Ali\",\"Muhammad Ali\", \"AI for EveryOne\", \"9 to 12\"],\n",
    "    [3,\"Talha Ahmed\",\"Muhammad Shah\", \"AI for EveryOne\", \"9 to 12\"],\n",
    "    [4,\"Wahaj Muhammad\",\"Muhammad Shah\", \"AI for EveryOne\", \"9 to 12\"],\n",
    "    [5,\"Syed Zain Ali\",\"Muhammad Zafar Iqbal\", \"AI for EveryOne\", \"9 to 12\"],\n",
    "]\n",
    "for value in data:\n",
    "    id_card(*value)"
   ]
  },
  {
   "cell_type": "markdown",
   "metadata": {},
   "source": [
    "# Arguments with Dictionary"
   ]
  },
  {
   "cell_type": "code",
   "execution_count": 98,
   "metadata": {},
   "outputs": [],
   "source": [
    "def id_card(stud_id, stud_name, father_name, course, timing):\n",
    "    text = \"\"\"\n",
    "    PIAIC Islamabad\n",
    "    ID : {}\n",
    "    Name : {}\n",
    "    Father's Name : {}\n",
    "    Courses : {}\n",
    "    Timing : {}\n",
    "    \"\"\".format(stud_id, stud_name, father_name, course, timing)\n",
    "    print(text)"
   ]
  },
  {
   "cell_type": "code",
   "execution_count": 107,
   "metadata": {},
   "outputs": [
    {
     "name": "stdout",
     "output_type": "stream",
     "text": [
      "\n",
      "    PIAIC Islamabad\n",
      "    ID : 1\n",
      "    Name : wajahat\n",
      "    Father's Name : Muhammad Shah\n",
      "    Courses : AI\n",
      "    Timing : 9 to 12\n",
      "    \n"
     ]
    }
   ],
   "source": [
    "data = {'stud_id':1,'stud_name': \"wajahat\",'father_name':\"Muhammad Shah\", 'course' : \"AI\", 'timing': \"9 to 12\"}\n",
    "id_card(**data)"
   ]
  },
  {
   "cell_type": "markdown",
   "metadata": {},
   "source": [
    "# Recursive Functions"
   ]
  },
  {
   "cell_type": "code",
   "execution_count": 112,
   "metadata": {},
   "outputs": [],
   "source": [
    "# Factorial Function\n",
    "def abc(n):\n",
    "    if n == 1:\n",
    "        return 1\n",
    "    return n*abc(n-1)"
   ]
  },
  {
   "cell_type": "code",
   "execution_count": 113,
   "metadata": {},
   "outputs": [
    {
     "data": {
      "text/plain": [
       "120"
      ]
     },
     "execution_count": 113,
     "metadata": {},
     "output_type": "execute_result"
    }
   ],
   "source": [
    "abc(5)"
   ]
  },
  {
   "cell_type": "markdown",
   "metadata": {},
   "source": [
    "# Generator Functions\n",
    "\n",
    "Generator function remembers the old value and doest not allocate all values to memory."
   ]
  },
  {
   "cell_type": "code",
   "execution_count": 119,
   "metadata": {},
   "outputs": [
    {
     "name": "stdout",
     "output_type": "stream",
     "text": [
      "<generator object abc at 0x00000215426D00C8>\n",
      "0\n",
      "1\n",
      "2\n",
      "3\n",
      "4\n",
      "5\n",
      "[6, 7, 8, 9, 10]\n"
     ]
    }
   ],
   "source": [
    "def abc():\n",
    "    for i in range(11):\n",
    "        yield i\n",
    "\n",
    "a = abc()\n",
    "print(a)\n",
    "print(next(a))\n",
    "print(next(a))\n",
    "print(next(a))\n",
    "print(next(a))\n",
    "print(next(a))\n",
    "print(next(a))  \n",
    "print(list(a))"
   ]
  },
  {
   "cell_type": "markdown",
   "metadata": {},
   "source": [
    "# Lambda Function\n",
    "- No Name\n",
    "- Single line function\n",
    "- Used only on that line"
   ]
  },
  {
   "cell_type": "code",
   "execution_count": 127,
   "metadata": {},
   "outputs": [],
   "source": [
    "# def xyz(a,b):\n",
    "#     return a+b"
   ]
  },
  {
   "cell_type": "code",
   "execution_count": 138,
   "metadata": {},
   "outputs": [
    {
     "name": "stdout",
     "output_type": "stream",
     "text": [
      "False\n"
     ]
    }
   ],
   "source": [
    "xyz = lambda a,b : a+b\n",
    "xyz = lambda x,y : x>y \n",
    "print(xyz(1,2))"
   ]
  },
  {
   "cell_type": "code",
   "execution_count": null,
   "metadata": {},
   "outputs": [],
   "source": []
  },
  {
   "cell_type": "code",
   "execution_count": null,
   "metadata": {},
   "outputs": [],
   "source": []
  },
  {
   "cell_type": "code",
   "execution_count": null,
   "metadata": {},
   "outputs": [],
   "source": []
  },
  {
   "cell_type": "code",
   "execution_count": null,
   "metadata": {},
   "outputs": [],
   "source": []
  },
  {
   "cell_type": "code",
   "execution_count": null,
   "metadata": {},
   "outputs": [],
   "source": []
  }
 ],
 "metadata": {
  "kernelspec": {
   "display_name": "Python 3",
   "language": "python",
   "name": "python3"
  },
  "language_info": {
   "codemirror_mode": {
    "name": "ipython",
    "version": 3
   },
   "file_extension": ".py",
   "mimetype": "text/x-python",
   "name": "python",
   "nbconvert_exporter": "python",
   "pygments_lexer": "ipython3",
   "version": "3.7.5"
  }
 },
 "nbformat": 4,
 "nbformat_minor": 2
}
