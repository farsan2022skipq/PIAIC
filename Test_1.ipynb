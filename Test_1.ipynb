{
 "cells": [
  {
   "cell_type": "markdown",
   "metadata": {},
   "source": [
    "# Artificial Intelligence [Batch 3] [Timing 9am to 12pm]\n",
    "# String methods\n"
   ]
  },
  {
   "cell_type": "markdown",
   "metadata": {},
   "source": [
    "### 1. Capitalize()\n",
    "In Python, the capitalize() method converts the first character of a string to capital (uppercase) letter.\n",
    "If the string has its first character as capital, then it returns the original string."
   ]
  },
  {
   "cell_type": "code",
   "execution_count": 22,
   "metadata": {},
   "outputs": [
    {
     "data": {
      "text/plain": [
       "'Python programming is fun !'"
      ]
     },
     "execution_count": 22,
     "metadata": {},
     "output_type": "execute_result"
    }
   ],
   "source": [
    "text = \"python programming is Fun !\"\n",
    "text.capitalize()"
   ]
  },
  {
   "cell_type": "markdown",
   "metadata": {},
   "source": [
    "### 2. Casefold()\n",
    "The casefold() string method is used to implement caseless string matching. It is similar to lower() string method but case removes all the case distinctions present in a string. i.e ignore cases when comparing.\n"
   ]
  },
  {
   "cell_type": "code",
   "execution_count": 23,
   "metadata": {},
   "outputs": [
    {
     "name": "stdout",
     "output_type": "stream",
     "text": [
      "{'a': 0, 'e': 0, 'i': 0, 'o': 0, 'u': 0}\n",
      "----------------------------------------\n",
      "{'a': 1, 'e': 0, 'i': 2, 'o': 2, 'u': 1}\n"
     ]
    }
   ],
   "source": [
    "# Counting vowels in string ! \n",
    "\n",
    "text = \"PYTHON PROGRAMMING IS FUN !\"\n",
    "\n",
    "vowels = 'aeiou'\n",
    "dictionary = {}.fromkeys(vowels,0)\n",
    "print(dictionary)\n",
    "print(\"----------------------------------------\")\n",
    "# count the vowels \n",
    "for char in text.casefold(): \n",
    "          if char in dictionary: \n",
    "                  dictionary[char] += 1\n",
    "print(dictionary) "
   ]
  },
  {
   "cell_type": "markdown",
   "metadata": {},
   "source": [
    "### 3.Center()\n",
    "The center() method creates and returns a new string which is padded with the specified character."
   ]
  },
  {
   "cell_type": "code",
   "execution_count": 24,
   "metadata": {},
   "outputs": [
    {
     "name": "stdout",
     "output_type": "stream",
     "text": [
      "Total characters: 26\n",
      "*Python is a fun language !*\n"
     ]
    }
   ],
   "source": [
    "text = \"Python is a fun language !\"\n",
    "print(f\"Total characters: {len(text)}\")\n",
    "width=28\n",
    "fillchar = \"*\"\n",
    "print(text.center(width,fillchar))"
   ]
  },
  {
   "cell_type": "markdown",
   "metadata": {},
   "source": [
    "### 4.Count\n",
    "Count() is an inbuilt function in Python that returns count of how many times a given object occurs in list."
   ]
  },
  {
   "cell_type": "code",
   "execution_count": 25,
   "metadata": {},
   "outputs": [
    {
     "data": {
      "text/plain": [
       "3"
      ]
     },
     "execution_count": 25,
     "metadata": {},
     "output_type": "execute_result"
    }
   ],
   "source": [
    "text = \"Python is a fun language !\"\n",
    "text.count(\"a\")"
   ]
  },
  {
   "cell_type": "markdown",
   "metadata": {},
   "source": [
    "### 5.Encode()\n",
    "The encode() method returns an encoded version of the string. Default encoding is the current default string encoding.\n",
    "The errors may be given to set a different error handling scheme."
   ]
  },
  {
   "cell_type": "code",
   "execution_count": 26,
   "metadata": {},
   "outputs": [
    {
     "name": "stdout",
     "output_type": "stream",
     "text": [
      "Encoded String: b'Python is a fun language !'\n"
     ]
    }
   ],
   "source": [
    "text =\"Python is a fun language !\"\n",
    "print(f\"Encoded String: {text.encode('utf-8',errors='strict')}\")"
   ]
  },
  {
   "cell_type": "markdown",
   "metadata": {},
   "source": [
    "### 6.Endswith()\n",
    "The endswith() method returns True if a string ends with the given suffix otherwise returns False.\n",
    "endswith(suffix, start, end).\n",
    "**suffix** : Suffix is nothing but a string which needs to be checked.\n",
    "**start** : Starting position from where suffix is needed to be checked within the string.\n",
    "**end** : Ending position from where suffix is needed to be checked within the string."
   ]
  },
  {
   "cell_type": "code",
   "execution_count": 27,
   "metadata": {},
   "outputs": [
    {
     "name": "stdout",
     "output_type": "stream",
     "text": [
      "True\n",
      "False\n",
      "True\n",
      "False\n"
     ]
    }
   ],
   "source": [
    "text =\"Python is a fun language !\"\n",
    "elements1 = ('is', '!')\n",
    "elements2 = ('funny', 'language')\n",
    "print(text.endswith('!'))\n",
    "print(text.endswith('is'))\n",
    "print(text.endswith(elements1))\n",
    "print(text.endswith(elements2))"
   ]
  },
  {
   "cell_type": "markdown",
   "metadata": {},
   "source": [
    "### 7.Espandtabs()\n",
    "Python string method expandtabs() returns a copy of the string in which tab characters ie. '\\t' are expanded using spaces, optionally using the given tabsize (default 8).."
   ]
  },
  {
   "cell_type": "code",
   "execution_count": 28,
   "metadata": {},
   "outputs": [
    {
     "name": "stdout",
     "output_type": "stream",
     "text": [
      "Orginal -> Python is \t a fun language !\n",
      "After -> Python is                        a fun language !\n"
     ]
    }
   ],
   "source": [
    "text =\"Python is \\t a fun language !\"\n",
    "print(f\"Orginal -> {text}\")\n",
    "print(f\"After -> {text.expandtabs(tabsize=32)}\")"
   ]
  },
  {
   "cell_type": "markdown",
   "metadata": {},
   "source": [
    "### 8.Find()\n",
    "The find() method determines if the string str occurs in string,\n",
    "or in a substring of string if the starting index beg and ending index end are given.\n",
    "***str.find(str, beg = 0 end = len(string)).***\n",
    "**str** − This specifies the string to be searched.\n",
    "**beg** − This is the starting index, by default its 0.\n",
    "**end** − This is the ending index, by default its equal to the lenght of the string."
   ]
  },
  {
   "cell_type": "code",
   "execution_count": 29,
   "metadata": {},
   "outputs": [
    {
     "data": {
      "text/plain": [
       "10"
      ]
     },
     "execution_count": 29,
     "metadata": {},
     "output_type": "execute_result"
    }
   ],
   "source": [
    "text =\"Python is a fun language !\"\n",
    "text.find('a')"
   ]
  },
  {
   "cell_type": "markdown",
   "metadata": {},
   "source": [
    "### 9.Format()\n",
    "str.format() is one of the string formatting methods in Python3, which allows multiple substitutions and value formatting.\n",
    "This method lets us concatenate elements within a string through positional formatting."
   ]
  },
  {
   "cell_type": "code",
   "execution_count": 30,
   "metadata": {},
   "outputs": [
    {
     "data": {
      "text/plain": [
       "'Python is a fun language !'"
      ]
     },
     "execution_count": 30,
     "metadata": {},
     "output_type": "execute_result"
    }
   ],
   "source": [
    "text =\"{} is a fun language !\"\n",
    "text.format('Python')"
   ]
  },
  {
   "cell_type": "markdown",
   "metadata": {},
   "source": [
    "### 10.Format_map()\n",
    "format_map() function is an inbuilt function in Python, which is used to return an dictionary key’s value.\n",
    "Input_dict : Takes a single parameter which is input dictionary."
   ]
  },
  {
   "cell_type": "code",
   "execution_count": 31,
   "metadata": {},
   "outputs": [
    {
     "name": "stdout",
     "output_type": "stream",
     "text": [
      "Python and Java are programming Languages.\n"
     ]
    }
   ],
   "source": [
    "languages ={\n",
    "    \"lang1\" : \"Python\",\n",
    "    \"lang2\" : \"Java\"\n",
    "}\n",
    "print(\"{lang1} and {lang2} are programming Languages.\".format_map(languages))"
   ]
  },
  {
   "cell_type": "markdown",
   "metadata": {},
   "source": [
    "### 10.Index()\n",
    "index() is an inbuilt function in Python, which searches for given element from start of the list and returns the lowest index where the element appears.\n",
    "\n",
    "**Syntax :**\n",
    "\n",
    "list_name.index(element, start, end)"
   ]
  },
  {
   "cell_type": "code",
   "execution_count": 32,
   "metadata": {},
   "outputs": [
    {
     "data": {
      "text/plain": [
       "7"
      ]
     },
     "execution_count": 32,
     "metadata": {},
     "output_type": "execute_result"
    }
   ],
   "source": [
    "text = \"Python is a good programming language.\"\n",
    "text.index(\"is\")"
   ]
  },
  {
   "cell_type": "markdown",
   "metadata": {},
   "source": [
    "### 11.Isalnum()\n",
    "\n",
    "isalnum() function in Python programming language checks whether all the characters in a given string is alphanumeric or not.\n",
    "\n",
    "Alphanumeric:A character that is either a letter or a number\n"
   ]
  },
  {
   "cell_type": "code",
   "execution_count": 33,
   "metadata": {},
   "outputs": [
    {
     "name": "stdout",
     "output_type": "stream",
     "text": [
      "True\n",
      "False\n"
     ]
    }
   ],
   "source": [
    "text1 = \"Python37\"\n",
    "# space is not alphanumeric \n",
    "text2 = \"Python 3.7\"\n",
    "print(text1.isalnum())\n",
    "print(text2.isalnum())"
   ]
  },
  {
   "cell_type": "markdown",
   "metadata": {},
   "source": [
    "### 12.Isalpha\n",
    "In Python, isalpha() is a built-in method used for string handling.\n",
    "The isalpha() methods returns “True” if all characters in the string are alphabets, Otherwise, It returns “False”.\n"
   ]
  },
  {
   "cell_type": "code",
   "execution_count": 34,
   "metadata": {},
   "outputs": [
    {
     "name": "stdout",
     "output_type": "stream",
     "text": [
      "True\n",
      "False\n"
     ]
    }
   ],
   "source": [
    "text = \"Python\"\n",
    "print(text.isalpha())\n",
    "text = \"python 3.7\"\n",
    "print(text.isalpha())"
   ]
  },
  {
   "cell_type": "markdown",
   "metadata": {},
   "source": [
    "### 13.Isascii()\n",
    "isascii() checks whether the string contains ASCII characters, i.e checks whether the string is printable or not\n"
   ]
  },
  {
   "cell_type": "code",
   "execution_count": 35,
   "metadata": {},
   "outputs": [
    {
     "name": "stdout",
     "output_type": "stream",
     "text": [
      "True\n"
     ]
    }
   ],
   "source": [
    "text1 = \"Python is fun\"\n",
    "print(text1.isascii())      "
   ]
  },
  {
   "cell_type": "markdown",
   "metadata": {},
   "source": [
    "### 14.Isdecimal()\n",
    "isdecimal()-It is a function in Python that returns true if all characters in a string are decimal. If all characters are not decimal then it returns false."
   ]
  },
  {
   "cell_type": "code",
   "execution_count": 37,
   "metadata": {},
   "outputs": [
    {
     "name": "stdout",
     "output_type": "stream",
     "text": [
      "False\n",
      "True\n"
     ]
    }
   ],
   "source": [
    "text1 = \"Python Programming !\"\n",
    "text2 = \"1234\"\n",
    "print(text.isdecimal())\n",
    "print(text2.isdecimal())"
   ]
  },
  {
   "cell_type": "markdown",
   "metadata": {},
   "source": [
    "### 15.Isdigit()\n",
    "Python string method isdigit() checks whether the string consists of digits only."
   ]
  },
  {
   "cell_type": "code",
   "execution_count": 41,
   "metadata": {},
   "outputs": [
    {
     "name": "stdout",
     "output_type": "stream",
     "text": [
      "False\n",
      "True\n"
     ]
    }
   ],
   "source": [
    "text = \"These are String methods !\"\n",
    "text3 = \"12345\"\n",
    "print(text.isdigit())\n",
    "print(text2.isdigit())"
   ]
  },
  {
   "cell_type": "markdown",
   "metadata": {},
   "source": [
    "### 16.Isidentifier()\n",
    "This in-built function of Python is used to check whether a string is a valid identifier or not. The method returns True if the string is a valid identifier else returns False."
   ]
  },
  {
   "cell_type": "code",
   "execution_count": 48,
   "metadata": {},
   "outputs": [
    {
     "name": "stdout",
     "output_type": "stream",
     "text": [
      "text:  True\n",
      "text2:  False\n",
      "text3:  False\n"
     ]
    }
   ],
   "source": [
    "text = \"Pythonforeveryone\"\n",
    "text2 = \"123456\"\n",
    "text3 = \"Python is a good programming language.\"\n",
    "print(\"text: \", text.isidentifier())\n",
    "print(\"text2: \", text2.isidentifier())\n",
    "print(\"text3: \", text3.isidentifier())"
   ]
  },
  {
   "cell_type": "markdown",
   "metadata": {},
   "source": [
    "### 17.Islower()\n",
    "The islower() method checks whether all the case-based characters (letters) of the string are lowercase."
   ]
  },
  {
   "cell_type": "code",
   "execution_count": 49,
   "metadata": {},
   "outputs": [
    {
     "name": "stdout",
     "output_type": "stream",
     "text": [
      "False\n",
      "True\n"
     ]
    }
   ],
   "source": [
    "text1 = \"Python languge\"\n",
    "text2 = \"python language\"\n",
    "print(text1.islower())\n",
    "print(text2.islower())"
   ]
  },
  {
   "cell_type": "markdown",
   "metadata": {},
   "source": [
    "### 18.Isnumeric()\n",
    "Python string method isnumeric() checks whether the string consists of only numeric characters. This method is present only on unicode objects.\n",
    "\n",
    "**Note** − To define a string as Unicode, one simply prefixes a 'u' to the opening quotation mark of the assignment. Below is the example."
   ]
  },
  {
   "cell_type": "code",
   "execution_count": 51,
   "metadata": {},
   "outputs": [
    {
     "name": "stdout",
     "output_type": "stream",
     "text": [
      "True\n",
      "False\n"
     ]
    }
   ],
   "source": [
    "text1 = u\"12345\"\n",
    "text2 = u\"python 3.7\"\n",
    "print(text1.isnumeric())\n",
    "print(text2.isnumeric())"
   ]
  },
  {
   "cell_type": "markdown",
   "metadata": {},
   "source": [
    "### 19.Isprintable()\n",
    "In Python, isprintable() is a built-in method used for string handling.\n",
    "The isprintable() methods returns “True” if all characters in the string are printable or the string is empty, Otherwise, It returns “False”.\n",
    "This function is used to check if the argument contains any printable characters such as :\n",
    "\n",
    "- Digits ( 0123456789 )\n",
    "- Uppercase letters ( ABCDEFGHIJKLMNOPQRSTUVWXYZ )\n",
    "- Lowercase letters ( abcdefghijklmnopqrstuvwxyz )\n",
    "- Punctuation characters ( !”#$%&'()*+, -./:;?@[\\]^_`{ | }~ )\n",
    "- Space ( )"
   ]
  },
  {
   "cell_type": "code",
   "execution_count": 56,
   "metadata": {},
   "outputs": [
    {
     "name": "stdout",
     "output_type": "stream",
     "text": [
      "True\n",
      "True\n",
      "False\n"
     ]
    }
   ],
   "source": [
    "text1 = \"Python programming is fun !\"\n",
    "text2 = \"123456\"\n",
    "text3 = \"There is a \\n in this line.\"\n",
    "print(text1.isprintable())\n",
    "print(text2.isprintable())\n",
    "print(text3.isprintable())\n"
   ]
  },
  {
   "cell_type": "markdown",
   "metadata": {},
   "source": [
    "### 20.Isspace()\n",
    "In Python, isspace() is a built-in method used for string handling. The isspace() methods returns “True” if all characters in the string are whitespace characters, Otherwise, It returns “False”.\n",
    "This function is used to check if the argument contains all whitespace characters such as :\n",
    "\n",
    "- ‘ ‘ – Space\n",
    "- ‘\\t’ – Horizontal tab\n",
    "- ‘\\n’ – Newline\n",
    "- ‘\\v’ – Vertical tab\n",
    "- ‘\\f’ – Feed\n",
    "- ‘\\r’ – Carriage return\n"
   ]
  },
  {
   "cell_type": "code",
   "execution_count": 59,
   "metadata": {},
   "outputs": [
    {
     "name": "stdout",
     "output_type": "stream",
     "text": [
      "False\n",
      "False\n",
      "True\n"
     ]
    }
   ],
   "source": [
    "text1 = \"Python programming is fun !\"\n",
    "text2 = \"12345\"\n",
    "text3 = \"    \"\n",
    "print(text1.isspace())\n",
    "print(text2.isspace())\n",
    "print(text3.isspace())"
   ]
  },
  {
   "cell_type": "markdown",
   "metadata": {},
   "source": [
    "### 21.Istitle()\n",
    "The istitle() returns True if the string is a titlecased string otherwise it returns False.\n",
    "\n",
    "what is titlecased ?\n",
    "\n",
    "String which has the first character in each word Uppercase and remaining all characters Lowercase alphabets."
   ]
  },
  {
   "cell_type": "code",
   "execution_count": 1,
   "metadata": {},
   "outputs": [
    {
     "name": "stdout",
     "output_type": "stream",
     "text": [
      "True\n",
      "False\n"
     ]
    }
   ],
   "source": [
    "text1 = \"Python For Everyone\"\n",
    "text2 = \"python for everyone\"\n",
    "print(text1.istitle())\n",
    "print(text2.istitle())"
   ]
  },
  {
   "cell_type": "markdown",
   "metadata": {},
   "source": [
    "### 20.Isupper()\n",
    "Python string method isupper() checks whether all the case-based characters (letters) of the string are uppercase.\n"
   ]
  },
  {
   "cell_type": "code",
   "execution_count": 2,
   "metadata": {},
   "outputs": [
    {
     "name": "stdout",
     "output_type": "stream",
     "text": [
      "False\n",
      "True\n"
     ]
    }
   ],
   "source": [
    "text1 = \"Python programming is fun\"\n",
    "text2= \"PYTHON\"\n",
    "print(text1.isupper())\n",
    "print(text2.isupper())"
   ]
  },
  {
   "cell_type": "markdown",
   "metadata": {},
   "source": [
    "### 22.Join()\n",
    "The join() method is a string method and returns a string in which the elements of sequence have been joined by str separator.  \n",
    "**Parameters**:The join() method takes iterable – objects capable of returning its members one at a time. Some examples are List, Tuple, String, Dictionary and Set"
   ]
  },
  {
   "cell_type": "code",
   "execution_count": 12,
   "metadata": {},
   "outputs": [
    {
     "name": "stdout",
     "output_type": "stream",
     "text": [
      "1-2-3-4-5-6\n",
      "Python\n"
     ]
    }
   ],
   "source": [
    "numbers = ['1','2','3','4','5','6']\n",
    "text = [\"P\",\"y\",\"t\",\"h\",\"o\",\"n\"]\n",
    "\n",
    "print(\"-\".join(numbers))\n",
    "print(\"\".join(text))\n"
   ]
  },
  {
   "cell_type": "markdown",
   "metadata": {},
   "source": [
    "### 23.Ljust()\n",
    "Python string method ljust() returns the string left justified in a string of length width. Padding is done using the specified fillchar (default is a space). The original string is returned if width is less than len(s).  \n",
    "***str.ljust(width[, fillchar])***  \n",
    "**Parameters.**  \n",
    "- width − This is string length in total after padding.  \n",
    "- fillchar − This is filler character, default is a space."
   ]
  },
  {
   "cell_type": "code",
   "execution_count": 13,
   "metadata": {},
   "outputs": [
    {
     "name": "stdout",
     "output_type": "stream",
     "text": [
      "Python##############\n"
     ]
    }
   ],
   "source": [
    "text = \"Python\"\n",
    "print(text.ljust(20,\"#\"))"
   ]
  },
  {
   "cell_type": "markdown",
   "metadata": {},
   "source": [
    "### 24.Lower()\n",
    "lower() method converts all uppercase characters in a string into lowercase characters and returns it."
   ]
  },
  {
   "cell_type": "code",
   "execution_count": 14,
   "metadata": {},
   "outputs": [
    {
     "name": "stdout",
     "output_type": "stream",
     "text": [
      "hello world\n"
     ]
    }
   ],
   "source": [
    "text = \"HELLO WORLD\"\n",
    "print(text.lower())"
   ]
  },
  {
   "cell_type": "markdown",
   "metadata": {},
   "source": [
    "### 25.Lstrip()\n",
    "Python string method lstrip() returns a copy of the string in which all chars have been stripped from the beginning of the string (default whitespace characters)."
   ]
  },
  {
   "cell_type": "code",
   "execution_count": 19,
   "metadata": {},
   "outputs": [
    {
     "name": "stdout",
     "output_type": "stream",
     "text": [
      "Python Language \n",
      "Python Language \n"
     ]
    }
   ],
   "source": [
    "text1 = \"                 Python Language \"\n",
    "text2 = \"00000000Python Language \"\n",
    "\n",
    "\n",
    "print(text1.lstrip())\n",
    "print(text2.lstrip('0'))"
   ]
  },
  {
   "cell_type": "markdown",
   "metadata": {},
   "source": [
    "### 26.Maketrans()\n",
    "The string maketrans() method returns a mapping table for translation usable for translate() method.\n",
    "In simple terms, the maketrans() method is a static method that creates a one to one mapping of a character to its translation/replacement.\n",
    "\n",
    "It creates a Unicode representation of each character for translation.This translation mapping is then used for replacing a character to its mapped character when used in translate() method.  \n",
    "***string.maketrans(x[, y[, z]])***   \n",
    "**Parameters**  \n",
    "The maketrans() method takes 3 parameters:\n",
    "\n",
    "- x - If only one argument is supplied, it must be a dictionary.The dictionary should contain 1-to-1 mapping from a single character string to its translation OR a unicode number (97 for 'a') to its translation.\n",
    "- y - If two arguments are passed, it must be two strings with equal length.Each character in the first string is a replacement to its corresponding index in the second string.\n",
    "- z - If three arguments are passed, each character in the third argument is mapped to None.\n"
   ]
  },
  {
   "cell_type": "code",
   "execution_count": 27,
   "metadata": {},
   "outputs": [
    {
     "name": "stdout",
     "output_type": "stream",
     "text": [
      "{97: '123', 98: '456', 99: '789'}\n",
      "{97: '123', 98: '456', 99: '789'}\n"
     ]
    }
   ],
   "source": [
    "# example dictionary\n",
    "dict = {\"a\": \"123\", \"b\": \"456\", \"c\": \"789\"}\n",
    "string = \"abc\"\n",
    "print(string.maketrans(dict))\n",
    "\n",
    "# example dictionary\n",
    "dict = {97: \"123\", 98: \"456\", 99: \"789\"}\n",
    "string = \"abc\"\n",
    "print(string.maketrans(dict))"
   ]
  },
  {
   "cell_type": "markdown",
   "metadata": {},
   "source": [
    "### 27.Partition()\n",
    "The partition() method splits the string at the first occurrence of the separator and returns a tuple containing the part the before separator, separator and the part after the separator."
   ]
  },
  {
   "cell_type": "code",
   "execution_count": 28,
   "metadata": {},
   "outputs": [
    {
     "name": "stdout",
     "output_type": "stream",
     "text": [
      "('python ', 'is ', 'a good language')\n",
      "('python is a good language', '', '')\n",
      "('pytho ', 'is', \" good language isn't\")\n"
     ]
    }
   ],
   "source": [
    "text = \"python is a good language\"\n",
    "  \n",
    "# 'is' separator is found \n",
    "print(text.partition('is ')) \n",
    "  \n",
    "# 'not' separator is not found \n",
    "print(text.partition('bad ')) \n",
    "\n",
    "text = \"pytho is good language isn't\" \n",
    "# splits at first occurrence of 'is' \n",
    "print(text.partition('is')) "
   ]
  },
  {
   "cell_type": "markdown",
   "metadata": {},
   "source": [
    "### 28.Replace()\n",
    "replace() is an inbuilt function in Python programming language that returns a copy of the string where all occurrences of a substring is replaced with another substring.     \n",
    "***string.replace(old, new, count)***\n",
    "- old – old substring you want to replace.\n",
    "- new – new substring which would replace the old substring.\n",
    "- count – the number of times you want to replace the old substring with the new substring. (Optional )"
   ]
  },
  {
   "cell_type": "code",
   "execution_count": 29,
   "metadata": {},
   "outputs": [
    {
     "name": "stdout",
     "output_type": "stream",
     "text": [
      "java language is great.\n"
     ]
    }
   ],
   "source": [
    "text = \"python language is great.\"\n",
    "print(text.replace('python','java'))"
   ]
  },
  {
   "cell_type": "markdown",
   "metadata": {},
   "source": [
    "### 29.Rfind()\n",
    "rfind() method returns the highest index of the substring if found in given string. If not found then it returns -1.  \n",
    "***str.rfind(sub, start, end)***  \n",
    "- sub : It’s the substring which needs to be searched in the given string.\n",
    "- start : Starting position where sub is needs to be checked within the string.\n",
    "- end : Ending position where suffix is needs to be checked within the string.\n"
   ]
  },
  {
   "cell_type": "code",
   "execution_count": 32,
   "metadata": {},
   "outputs": [
    {
     "name": "stdout",
     "output_type": "stream",
     "text": [
      "19\n",
      "5\n"
     ]
    }
   ],
   "source": [
    "text1 = \"Want some come get some\"\n",
    "text2 = \"Language\"\n",
    "print(text.rfind('some'))\n",
    "print(text2.rfind('a'))"
   ]
  },
  {
   "cell_type": "markdown",
   "metadata": {},
   "source": [
    "### 30.Rindex()\n",
    "Python string method rindex() returns the last index where the substring str is found, or raises an exception if no such index exists, optionally restricting the search to string[beg:end].  \n",
    "***str.rindex(str, beg=0 end=len(string))***   \n",
    "- str − This specifies the string to be searched.\n",
    "- beg − This is the starting index, by default its 0\n",
    "- len − This is ending index, by default its equal to the length of the string."
   ]
  },
  {
   "cell_type": "code",
   "execution_count": 2,
   "metadata": {},
   "outputs": [
    {
     "name": "stdout",
     "output_type": "stream",
     "text": [
      "14\n",
      "5\n"
     ]
    }
   ],
   "source": [
    "text1 = \"AI for everyone\"\n",
    "text2 = \"Language\"\n",
    "print(text1.rindex('e'))\n",
    "print(text2.rindex('a'))"
   ]
  },
  {
   "cell_type": "markdown",
   "metadata": {},
   "source": [
    "### 31.Rjust()\n",
    "Python string method rjust() returns the string right justified in a string of length width. Padding is done using the specified fillchar (default is a space). The original string is returned if width is less than len(s).  \n",
    "***str.rjust(width[, fillchar])***  \n",
    "- width − This is the string length in total after padding.\n",
    "- fillchar − This is the filler character, default is a space.\n"
   ]
  },
  {
   "cell_type": "code",
   "execution_count": 3,
   "metadata": {},
   "outputs": [
    {
     "name": "stdout",
     "output_type": "stream",
     "text": [
      "$$$$$$$$$$$$$$$$$$$$$$$Python is a great Language.\n"
     ]
    }
   ],
   "source": [
    "text = \"Python is a great Language.\"\n",
    "print(text.rjust(50, '$'))"
   ]
  },
  {
   "cell_type": "markdown",
   "metadata": {},
   "source": [
    "### 32.Rpartition()\n",
    "rpartition() function in Python split the given string into three parts. rpartition() start looking for separator from right side, till the separator is found and return a tuple which contains part of the string before separator, argument of the string and the part after the separator.   \n",
    "***string.rpartition(separator)***"
   ]
  },
  {
   "cell_type": "code",
   "execution_count": 4,
   "metadata": {},
   "outputs": [
    {
     "name": "stdout",
     "output_type": "stream",
     "text": [
      "('Python ', 'programming', ' is fun')\n"
     ]
    }
   ],
   "source": [
    "text = \"Python programming is fun\"\n",
    "print(text.rpartition('programming'))"
   ]
  },
  {
   "cell_type": "markdown",
   "metadata": {},
   "source": [
    "### 33.Rsplit()\n",
    "rsplit() method returns a list of strings after breaking the given string from right side by the specified separator.   \n",
    "***str.rsplit(separator, maxsplit)***   \n",
    "- separator : The is a delimiter. The string splits at this specified separator starting from right side. If is not provided     then any white space is a separator.\n",
    "- maxsplit : It is a number, which tells us to split the string into maximum of provided number of times. If it is not provided   then there is no limit."
   ]
  },
  {
   "cell_type": "code",
   "execution_count": 8,
   "metadata": {},
   "outputs": [
    {
     "name": "stdout",
     "output_type": "stream",
     "text": [
      "['Python is ', ' good l', 'ngu', 'ge']\n"
     ]
    }
   ],
   "source": [
    "text = \"Python is a good language\"\n",
    "print(text.rsplit(\"a\"))"
   ]
  },
  {
   "cell_type": "markdown",
   "metadata": {},
   "source": [
    "### 34.Rstrip()\n",
    "Python string method rstrip() returns a copy of the string in which all chars have been stripped from the end of the string (default whitespace characters).   \n",
    "***str.rstrip([chars])***   \n",
    "- chars − You can supply what chars have to be trimmed."
   ]
  },
  {
   "cell_type": "code",
   "execution_count": 11,
   "metadata": {},
   "outputs": [
    {
     "name": "stdout",
     "output_type": "stream",
     "text": [
      "###########python is programming language.\n"
     ]
    }
   ],
   "source": [
    "text = \"###########python is programming language.###################\"\n",
    "print(text.rstrip('#'))"
   ]
  },
  {
   "cell_type": "markdown",
   "metadata": {},
   "source": [
    "### 35.Split()\n",
    "split() method returns a list of strings after breaking the given string by the specified separator.   \n",
    "\n",
    "***str.split(separator, maxsplit)***\n",
    "- separator : The is a delimiter. The string splits at this specified separator. If is not provided then any white space is a separator.\n",
    "- maxsplit : It is a number, which tells us to split the string into maximum of provided number of times. If it is not provided then there is no limit."
   ]
  },
  {
   "cell_type": "code",
   "execution_count": 13,
   "metadata": {},
   "outputs": [
    {
     "name": "stdout",
     "output_type": "stream",
     "text": [
      "['python ', ' programming language.']\n"
     ]
    }
   ],
   "source": [
    "text = \"python is programming language.\"\n",
    "print(text.split('is'))"
   ]
  },
  {
   "cell_type": "markdown",
   "metadata": {},
   "source": [
    "### 36.Splitlines()\n",
    "splitline() method is used to split the lines at line boundaries. The function returns a list of lines in the string, including the line break(optional).  \n",
    "***string.splitlines([keepends])***  \n",
    "- keepends (optional): When set to True line breaks are included in the resulting list.\n",
    "- This can be a number, specifying the position of line break or, can be any Unicode characters, like “\\n”, “\\r”, “\\r\\n”, etc as boundaries for strings."
   ]
  },
  {
   "cell_type": "code",
   "execution_count": 14,
   "metadata": {},
   "outputs": [
    {
     "name": "stdout",
     "output_type": "stream",
     "text": [
      "['python', 'is', 'programming', 'language.']\n"
     ]
    }
   ],
   "source": [
    "text = \"python\\nis\\nprogramming\\nlanguage.\"\n",
    "print(text.splitlines())"
   ]
  },
  {
   "cell_type": "markdown",
   "metadata": {},
   "source": [
    "### 37.Startwith()\n",
    "Python string method startswith() checks whether string starts with str, optionally restricting the matching with the given indices start and end.   \n",
    "***str.startswith(str, beg=0,end=len(string));***  \n",
    "- str − This is the string to be checked.\n",
    "- beg − This is the optional parameter to set start index of the matching boundary.\n",
    "- end − This is the optional parameter to end start index of the matching boundary."
   ]
  },
  {
   "cell_type": "code",
   "execution_count": 15,
   "metadata": {},
   "outputs": [
    {
     "name": "stdout",
     "output_type": "stream",
     "text": [
      "False\n",
      "True\n"
     ]
    }
   ],
   "source": [
    "text = \"python is programming language.\"\n",
    "print(text.startswith(\"is\"))\n",
    "print(text.startswith(\"python\"))"
   ]
  },
  {
   "cell_type": "markdown",
   "metadata": {},
   "source": [
    "### 39.Strip()\n",
    "Python string method strip() returns a copy of the string in which all chars have been stripped from the beginning and the end of the string (default whitespace characters).  \n",
    "***str.strip([chars]);***   \n",
    "- chars − The characters to be removed from beginning or end of the string."
   ]
  },
  {
   "cell_type": "code",
   "execution_count": 16,
   "metadata": {},
   "outputs": [
    {
     "name": "stdout",
     "output_type": "stream",
     "text": [
      "python is programming language.\n"
     ]
    }
   ],
   "source": [
    "text = \"###########python is programming language.###################\"\n",
    "print(text.strip('#'))"
   ]
  },
  {
   "cell_type": "markdown",
   "metadata": {},
   "source": [
    "### 39.Swapcase()\n",
    "The string swapcase() method converts all uppercase characters to lowercase and vice versa of the given string, and returns it.  ***string_name.swapcase()***  \n"
   ]
  },
  {
   "cell_type": "code",
   "execution_count": 19,
   "metadata": {},
   "outputs": [
    {
     "name": "stdout",
     "output_type": "stream",
     "text": [
      "pYTHON IS PROGRAMMING LANGUAGE.\n"
     ]
    }
   ],
   "source": [
    "text = \"Python is programming language.\"\n",
    "print(text.swapcase())"
   ]
  },
  {
   "cell_type": "markdown",
   "metadata": {},
   "source": [
    "### 40.Title()\n",
    "Title function in python is the Python String Method which is used to convert the first character in each word to Uppercase and remaining characters to Lowercase in string and returns new string."
   ]
  },
  {
   "cell_type": "code",
   "execution_count": 21,
   "metadata": {},
   "outputs": [
    {
     "name": "stdout",
     "output_type": "stream",
     "text": [
      "Python Is Programming Language.\n"
     ]
    }
   ],
   "source": [
    "text = \"python is programming language.\"\n",
    "print(text.title())"
   ]
  },
  {
   "cell_type": "markdown",
   "metadata": {},
   "source": [
    "### 41.Translate()\n",
    "The string translate() method returns a string where each character is mapped to its corresponding character in the translation table.The translation table is created by the static method maketrans().  \n",
    "***string.translate(table)***   \n",
    "- table - a translation table containing the mapping between two characters; usually created by maketrans()"
   ]
  },
  {
   "cell_type": "code",
   "execution_count": 22,
   "metadata": {},
   "outputs": [
    {
     "name": "stdout",
     "output_type": "stream",
     "text": [
      "Original string: abcdef\n",
      "Translated string: idef\n"
     ]
    }
   ],
   "source": [
    "# first string\n",
    "firstString = \"abc\"\n",
    "secondString = \"ghi\"\n",
    "thirdString = \"ab\"\n",
    "\n",
    "string = \"abcdef\"\n",
    "print(\"Original string:\", string)\n",
    "\n",
    "translation = string.maketrans(firstString, secondString, thirdString)\n",
    "\n",
    "# translate string\n",
    "print(\"Translated string:\", string.translate(translation))"
   ]
  },
  {
   "cell_type": "markdown",
   "metadata": {},
   "source": [
    "### 41.Upper()\n",
    "Python string method upper() returns a copy of the string in which all case-based characters have been uppercased."
   ]
  },
  {
   "cell_type": "code",
   "execution_count": 24,
   "metadata": {},
   "outputs": [
    {
     "name": "stdout",
     "output_type": "stream",
     "text": [
      "PYTHON IS PROGRAMMING LANGUAGE.\n"
     ]
    }
   ],
   "source": [
    "text = \"python is programming language.\"\n",
    "print(text.upper())"
   ]
  },
  {
   "cell_type": "markdown",
   "metadata": {},
   "source": [
    "### 42.Zfill()\n",
    "Python string method zfill() pads string on the left with zeros to fill width.   \n",
    "***str.zfill(width)***   \n",
    "- width − This is final width of the string. This is the width which we would get after filling zeros."
   ]
  },
  {
   "cell_type": "code",
   "execution_count": 33,
   "metadata": {},
   "outputs": [
    {
     "name": "stdout",
     "output_type": "stream",
     "text": [
      "python is programming language.\n",
      "0000python is programming language.\n"
     ]
    }
   ],
   "source": [
    "text = \"python is programming language.\"\n",
    "print(text.zfill(31))\n",
    "print(text.zfill(35))"
   ]
  },
  {
   "cell_type": "code",
   "execution_count": null,
   "metadata": {},
   "outputs": [],
   "source": []
  },
  {
   "cell_type": "code",
   "execution_count": null,
   "metadata": {},
   "outputs": [],
   "source": []
  },
  {
   "cell_type": "code",
   "execution_count": null,
   "metadata": {},
   "outputs": [],
   "source": []
  },
  {
   "cell_type": "code",
   "execution_count": null,
   "metadata": {},
   "outputs": [],
   "source": []
  },
  {
   "cell_type": "code",
   "execution_count": null,
   "metadata": {},
   "outputs": [],
   "source": []
  },
  {
   "cell_type": "code",
   "execution_count": null,
   "metadata": {},
   "outputs": [],
   "source": []
  },
  {
   "cell_type": "code",
   "execution_count": null,
   "metadata": {},
   "outputs": [],
   "source": []
  },
  {
   "cell_type": "code",
   "execution_count": null,
   "metadata": {},
   "outputs": [],
   "source": []
  }
 ],
 "metadata": {
  "kernelspec": {
   "display_name": "Python 3",
   "language": "python",
   "name": "python3"
  },
  "language_info": {
   "codemirror_mode": {
    "name": "ipython",
    "version": 3
   },
   "file_extension": ".py",
   "mimetype": "text/x-python",
   "name": "python",
   "nbconvert_exporter": "python",
   "pygments_lexer": "ipython3",
   "version": "3.7.5"
  }
 },
 "nbformat": 4,
 "nbformat_minor": 2
}
