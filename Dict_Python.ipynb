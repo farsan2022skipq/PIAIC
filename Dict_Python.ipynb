{
 "cells": [
  {
   "cell_type": "markdown",
   "metadata": {},
   "source": [
    "# Python Dictionaries"
   ]
  },
  {
   "cell_type": "code",
   "execution_count": 3,
   "metadata": {},
   "outputs": [
    {
     "name": "stdout",
     "output_type": "stream",
     "text": [
      "{'id': 2, 'name': 'Wajahat Muhammad', 'course': 'AI', 'admission_date': '2019-12-15', 'DOB': '29-04-1995'}\n"
     ]
    }
   ],
   "source": [
    "# dictionaries \n",
    "data_1 = {\n",
    "    \"id\":2,\n",
    "    \"name\":\"Wajahat Muhammad\",\n",
    "    \"course\":\"AI\",\n",
    "    \"admission_date\":\"2019-12-15\",\n",
    "    \"DOB\":'29-04-1995'\n",
    "}\n",
    "print(data_1)"
   ]
  },
  {
   "cell_type": "code",
   "execution_count": 5,
   "metadata": {},
   "outputs": [
    {
     "name": "stdout",
     "output_type": "stream",
     "text": [
      "Enter Id: 1\n",
      "Enter Name: Wajahat Muhammad\n",
      "Enter new SkillsJava,C,C++\n",
      "{'id': '1', 'name': 'Wajahat Muhammad', 'skills': ['Python', 'Java,C,C++']}\n"
     ]
    }
   ],
   "source": [
    "skills = ['Python']\n",
    "data = {}\n",
    "data['id'] = input(\"Enter Id: \")\n",
    "data['name'] = input(\"Enter Name: \")\n",
    "new_skills = input(\"Enter new Skills\")\n",
    "skill = list(new_skills.split())\n",
    "data['skills'] = skills+skill\n",
    "print(data)"
   ]
  },
  {
   "cell_type": "code",
   "execution_count": 6,
   "metadata": {},
   "outputs": [],
   "source": [
    "# dictionaries \n",
    "data_1 = {\n",
    "    \"id\":2,\n",
    "    \"name\":\"Wajahat Muhammad\",\n",
    "    \"course\":\"AI\",\n",
    "    \"admission_date\":\"2019-12-15\",\n",
    "    \"DOB\":'29-04-1995'\n",
    "}"
   ]
  },
  {
   "cell_type": "code",
   "execution_count": 8,
   "metadata": {},
   "outputs": [
    {
     "data": {
      "text/plain": [
       "{}"
      ]
     },
     "execution_count": 8,
     "metadata": {},
     "output_type": "execute_result"
    }
   ],
   "source": [
    "data_1.clear()\n",
    "data_1"
   ]
  },
  {
   "cell_type": "code",
   "execution_count": 12,
   "metadata": {},
   "outputs": [
    {
     "name": "stdout",
     "output_type": "stream",
     "text": [
      "{'id': 2, 'name': 'Wajahat Muhammad', 'course': 'AI', 'admission_date': '2019-12-15', 'DOB': '29-04-1995'}\n"
     ]
    },
    {
     "ename": "NameError",
     "evalue": "name 'data_1' is not defined",
     "output_type": "error",
     "traceback": [
      "\u001b[1;31m---------------------------------------------------------------------------\u001b[0m",
      "\u001b[1;31mNameError\u001b[0m                                 Traceback (most recent call last)",
      "\u001b[1;32m<ipython-input-12-0eab3ce8e5c1>\u001b[0m in \u001b[0;36m<module>\u001b[1;34m\u001b[0m\n\u001b[0;32m      9\u001b[0m \u001b[0mprint\u001b[0m\u001b[1;33m(\u001b[0m\u001b[0mdata_1\u001b[0m\u001b[1;33m)\u001b[0m\u001b[1;33m\u001b[0m\u001b[1;33m\u001b[0m\u001b[0m\n\u001b[0;32m     10\u001b[0m \u001b[1;32mdel\u001b[0m\u001b[1;33m(\u001b[0m\u001b[0mdata_1\u001b[0m\u001b[1;33m)\u001b[0m\u001b[1;33m\u001b[0m\u001b[1;33m\u001b[0m\u001b[0m\n\u001b[1;32m---> 11\u001b[1;33m \u001b[0mprint\u001b[0m\u001b[1;33m(\u001b[0m\u001b[0mdata_1\u001b[0m\u001b[1;33m)\u001b[0m\u001b[1;33m\u001b[0m\u001b[1;33m\u001b[0m\u001b[0m\n\u001b[0m",
      "\u001b[1;31mNameError\u001b[0m: name 'data_1' is not defined"
     ]
    }
   ],
   "source": [
    "# dictionaries \n",
    "data_1 = {\n",
    "    \"id\":2,\n",
    "    \"name\":\"Wajahat Muhammad\",\n",
    "    \"course\":\"AI\",\n",
    "    \"admission_date\":\"2019-12-15\",\n",
    "    \"DOB\":'29-04-1995'\n",
    "}\n",
    "print(data_1)\n",
    "del(data_1)\n",
    "print(data_1)"
   ]
  },
  {
   "cell_type": "code",
   "execution_count": 14,
   "metadata": {},
   "outputs": [
    {
     "name": "stdout",
     "output_type": "stream",
     "text": [
      "{'id': 2, 'name': 'Wajahat Muhammad', 'course': 'AI', 'admission_date': '2019-12-15', 'DOB': '29-04-1995'}\n",
      "{'id': 2, 'name': 'Wajahat Muhammad', 'course': 'AI', 'admission_date': '2019-12-15', 'DOB': '29-04-1995'}\n",
      "{'id': 1000, 'name': 'Wajahat Muhammad', 'course': 'AI', 'admission_date': '2019-12-15', 'DOB': '29-04-1995'}\n"
     ]
    }
   ],
   "source": [
    "# dictionaries \n",
    "data_1 = {\n",
    "    \"id\":2,\n",
    "    \"name\":\"Wajahat Muhammad\",\n",
    "    \"course\":\"AI\",\n",
    "    \"admission_date\":\"2019-12-15\",\n",
    "    \"DOB\":'29-04-1995'\n",
    "}\n",
    "# Deep copy \n",
    "# Shallow copy \n",
    "print(data_1)\n",
    "data_2 = data_1.copy()\n",
    "data_2['id'] = 1000\n",
    "print(data_1)\n",
    "print(data_2)"
   ]
  },
  {
   "cell_type": "code",
   "execution_count": 15,
   "metadata": {},
   "outputs": [],
   "source": [
    "# dictionaries \n",
    "data_1 = {\n",
    "    \"id\":2,\n",
    "    \"name\":\"Wajahat Muhammad\",\n",
    "    \"course\":\"AI\",\n",
    "    \"admission_date\":\"2019-12-15\",\n",
    "    \"DOB\":'29-04-1995'\n",
    "}"
   ]
  },
  {
   "cell_type": "code",
   "execution_count": 16,
   "metadata": {},
   "outputs": [
    {
     "name": "stdout",
     "output_type": "stream",
     "text": [
      "['id', 'name', 'course', 'timing', 'address', 'DOB']\n"
     ]
    }
   ],
   "source": [
    "list1 = ['id','name','course','timing','address','DOB']\n",
    "print(list1)"
   ]
  },
  {
   "cell_type": "code",
   "execution_count": 22,
   "metadata": {},
   "outputs": [
    {
     "name": "stdout",
     "output_type": "stream",
     "text": [
      "{'id': None, 'name': None, 'course': None, 'timing': None, 'address': None, 'DOB': None}\n"
     ]
    }
   ],
   "source": [
    "data = dict.fromkeys(list1)\n",
    "print(data)"
   ]
  },
  {
   "cell_type": "code",
   "execution_count": 9,
   "metadata": {},
   "outputs": [
    {
     "name": "stdout",
     "output_type": "stream",
     "text": [
      "id,name,course,address,timing,DOB\n",
      "['id', 'name', 'course', 'address', 'timing', 'DOB']\n",
      "{'id': None, 'name': None, 'course': None, 'address': None, 'timing': None, 'DOB': None}\n"
     ]
    }
   ],
   "source": [
    "list1 = (input().split(\",\"))\n",
    "print(list1)\n"
   ]
  },
  {
   "cell_type": "code",
   "execution_count": 12,
   "metadata": {},
   "outputs": [
    {
     "name": "stdout",
     "output_type": "stream",
     "text": [
      "{'id': 'NAN', 'name': 'NAN', 'course': 'NAN', 'address': 'NAN', 'timing': 'NAN', 'DOB': 'NAN'}\n"
     ]
    }
   ],
   "source": [
    "data = dict.fromkeys(list1,\"NAN\")\n",
    "print(data)"
   ]
  },
  {
   "cell_type": "code",
   "execution_count": 13,
   "metadata": {},
   "outputs": [
    {
     "name": "stdout",
     "output_type": "stream",
     "text": [
      "id,name,course,timing\n"
     ]
    }
   ],
   "source": [
    "list_keys = input().split(',')"
   ]
  },
  {
   "cell_type": "code",
   "execution_count": 14,
   "metadata": {},
   "outputs": [
    {
     "name": "stdout",
     "output_type": "stream",
     "text": [
      "1,Wajahat,Python,9:00am\n"
     ]
    }
   ],
   "source": [
    "list_values = input().split(',')"
   ]
  },
  {
   "cell_type": "code",
   "execution_count": 35,
   "metadata": {},
   "outputs": [
    {
     "name": "stdout",
     "output_type": "stream",
     "text": [
      "{'id': '1', 'name': 'Wajahat', 'course': 'Python', 'timing': '9:00am'}\n"
     ]
    }
   ],
   "source": [
    "data = dict(zip(list_keys,list_values))\n",
    "print(data) "
   ]
  },
  {
   "cell_type": "code",
   "execution_count": 42,
   "metadata": {},
   "outputs": [
    {
     "data": {
      "text/plain": [
       "'Value is not available'"
      ]
     },
     "execution_count": 42,
     "metadata": {},
     "output_type": "execute_result"
    }
   ],
   "source": [
    "data.get('v','Value is not available') # if key available then extract it, error will not "
   ]
  },
  {
   "cell_type": "code",
   "execution_count": 43,
   "metadata": {},
   "outputs": [
    {
     "name": "stdout",
     "output_type": "stream",
     "text": [
      "{'id': '1', 'name': 'Wajahat', 'course': 'Python', 'timing': '9:00am'}\n"
     ]
    }
   ],
   "source": [
    "print(data)"
   ]
  },
  {
   "cell_type": "code",
   "execution_count": 44,
   "metadata": {},
   "outputs": [
    {
     "name": "stdout",
     "output_type": "stream",
     "text": [
      "Value not available !\n"
     ]
    }
   ],
   "source": [
    "print(data.get(\"id1\", \"Value not available !\"))"
   ]
  },
  {
   "cell_type": "code",
   "execution_count": 46,
   "metadata": {},
   "outputs": [
    {
     "data": {
      "text/plain": [
       "dict_items([('id', '1'), ('name', 'Wajahat'), ('course', 'Python'), ('timing', '9:00am')])"
      ]
     },
     "execution_count": 46,
     "metadata": {},
     "output_type": "execute_result"
    }
   ],
   "source": [
    "data.items()"
   ]
  },
  {
   "cell_type": "code",
   "execution_count": 47,
   "metadata": {},
   "outputs": [
    {
     "data": {
      "text/plain": [
       "dict_keys(['id', 'name', 'course', 'timing'])"
      ]
     },
     "execution_count": 47,
     "metadata": {},
     "output_type": "execute_result"
    }
   ],
   "source": [
    "data.keys()"
   ]
  },
  {
   "cell_type": "code",
   "execution_count": 48,
   "metadata": {},
   "outputs": [
    {
     "data": {
      "text/plain": [
       "dict_values(['1', 'Wajahat', 'Python', '9:00am'])"
      ]
     },
     "execution_count": 48,
     "metadata": {},
     "output_type": "execute_result"
    }
   ],
   "source": [
    "data.values()"
   ]
  },
  {
   "cell_type": "code",
   "execution_count": 50,
   "metadata": {},
   "outputs": [
    {
     "data": {
      "text/plain": [
       "'1'"
      ]
     },
     "execution_count": 50,
     "metadata": {},
     "output_type": "execute_result"
    }
   ],
   "source": [
    "# We provide key and it returns the value against value.\n",
    "data.pop('id')"
   ]
  },
  {
   "cell_type": "code",
   "execution_count": 64,
   "metadata": {},
   "outputs": [
    {
     "name": "stdout",
     "output_type": "stream",
     "text": [
      "{'a': 1, 'b': 2}\n",
      "{'a': 1, 'b': 2, 'abc1': 'xyz'}\n"
     ]
    }
   ],
   "source": [
    "# data.popitems()\n",
    "d1 = {'a':1, 'b':2}\n",
    "print(d1)\n",
    "d1.setdefault('abc1','xyz')\n",
    "print(d1)\n"
   ]
  },
  {
   "cell_type": "code",
   "execution_count": 65,
   "metadata": {},
   "outputs": [
    {
     "data": {
      "text/plain": [
       "{'a': 'AAAA', 'b': 'BB', 'c': 'CCCC'}"
      ]
     },
     "execution_count": 65,
     "metadata": {},
     "output_type": "execute_result"
    }
   ],
   "source": [
    "d1 = {'a':'AA', 'b':'BB'}\n",
    "d2 = {'a':'AAAA', 'c':'CCCC'}\n",
    "d1.update(d2)\n",
    "d1"
   ]
  },
  {
   "cell_type": "code",
   "execution_count": 71,
   "metadata": {},
   "outputs": [
    {
     "name": "stdout",
     "output_type": "stream",
     "text": [
      "a,b,c,d,e,f,g,h,i,j\n"
     ]
    }
   ],
   "source": [
    "l1 = input().split(',')"
   ]
  },
  {
   "cell_type": "code",
   "execution_count": 72,
   "metadata": {},
   "outputs": [
    {
     "name": "stdout",
     "output_type": "stream",
     "text": [
      "1,2,3,4,5,6,7,8,9,10\n"
     ]
    }
   ],
   "source": [
    "l2 = input().split(',')"
   ]
  },
  {
   "cell_type": "code",
   "execution_count": 75,
   "metadata": {},
   "outputs": [
    {
     "data": {
      "text/plain": [
       "{'a': '1',\n",
       " 'b': '2',\n",
       " 'c': '3',\n",
       " 'd': '4',\n",
       " 'e': '5',\n",
       " 'f': '6',\n",
       " 'g': '7',\n",
       " 'h': '8',\n",
       " 'i': '9',\n",
       " 'j': '10'}"
      ]
     },
     "execution_count": 75,
     "metadata": {},
     "output_type": "execute_result"
    }
   ],
   "source": [
    "data = dict(zip(l1,l2))\n",
    "data"
   ]
  },
  {
   "cell_type": "code",
   "execution_count": 128,
   "metadata": {},
   "outputs": [
    {
     "name": "stdout",
     "output_type": "stream",
     "text": [
      "{'b': 5, 'c': 3, 'a': 1}\n"
     ]
    }
   ],
   "source": [
    "d1 = {'a':1, 'b':5,'c':3}\n",
    "d2 = {}\n",
    "for k,v in sorted(d1.items(), key=lambda x:x[1], reverse=True):\n",
    "    d2[k] = v\n",
    "print(d2)\n",
    "\n"
   ]
  },
  {
   "cell_type": "code",
   "execution_count": 142,
   "metadata": {},
   "outputs": [
    {
     "name": "stdout",
     "output_type": "stream",
     "text": [
      "{'a': 1, 'b': 5, 'c': 3}\n"
     ]
    }
   ],
   "source": [
    "d1 = {'a':1, 'b':5,'c':3}\n",
    "print(d1)"
   ]
  },
  {
   "cell_type": "code",
   "execution_count": 144,
   "metadata": {},
   "outputs": [
    {
     "data": {
      "text/plain": [
       "{'b': 5, 'c': 3, 'a': 1}"
      ]
     },
     "execution_count": 144,
     "metadata": {},
     "output_type": "execute_result"
    }
   ],
   "source": [
    "{ k:v for k,v in sorted(d1.items(), key=lambda x:x[1], reverse=True) }"
   ]
  },
  {
   "cell_type": "code",
   "execution_count": 152,
   "metadata": {},
   "outputs": [
    {
     "name": "stdout",
     "output_type": "stream",
     "text": [
      "ID :1\n",
      "Name :W\n",
      "Course :P\n",
      "Skills :Jaca\n",
      "To exit enter X :\n",
      "ID :2\n",
      "Name :T\n",
      "Course :P\n",
      "Skills :C#\n",
      "To exit enter X :x\n",
      "[{'a': '1', 'b': '2', 'c': '3', 'd': '4', 'e': '5', 'f': '6', 'g': '7', 'h': '8', 'i': '9', 'j': '10', 'id': '2', 'name': 'T', 'course': 'P', 'skill': ['C#']}, {'a': '1', 'b': '2', 'c': '3', 'd': '4', 'e': '5', 'f': '6', 'g': '7', 'h': '8', 'i': '9', 'j': '10', 'id': '2', 'name': 'T', 'course': 'P', 'skill': ['C#']}]\n"
     ]
    }
   ],
   "source": [
    "def get_values():\n",
    "    data['id']=input('ID :')\n",
    "    data['name']=input('Name :')\n",
    "    data['course']=input('Course :')\n",
    "    data['skill']=input('Skills :').split()\n",
    "    return data\n",
    "x=''\n",
    "lists=[]\n",
    "while x != 'x':\n",
    "    info = get_values()\n",
    "    lists.append(info) \n",
    "    x = input('To exit enter X :').lower()\n"
   ]
  },
  {
   "cell_type": "code",
   "execution_count": 153,
   "metadata": {},
   "outputs": [
    {
     "name": "stdout",
     "output_type": "stream",
     "text": [
      "[{'a': '1', 'b': '2', 'c': '3', 'd': '4', 'e': '5', 'f': '6', 'g': '7', 'h': '8', 'i': '9', 'j': '10', 'id': '2', 'name': 'T', 'course': 'P', 'skill': ['C#']}, {'a': '1', 'b': '2', 'c': '3', 'd': '4', 'e': '5', 'f': '6', 'g': '7', 'h': '8', 'i': '9', 'j': '10', 'id': '2', 'name': 'T', 'course': 'P', 'skill': ['C#']}]\n"
     ]
    }
   ],
   "source": [
    "print(lists)"
   ]
  },
  {
   "cell_type": "code",
   "execution_count": null,
   "metadata": {},
   "outputs": [],
   "source": []
  }
 ],
 "metadata": {
  "kernelspec": {
   "display_name": "Python 3",
   "language": "python",
   "name": "python3"
  },
  "language_info": {
   "codemirror_mode": {
    "name": "ipython",
    "version": 3
   },
   "file_extension": ".py",
   "mimetype": "text/x-python",
   "name": "python",
   "nbconvert_exporter": "python",
   "pygments_lexer": "ipython3",
   "version": "3.7.4"
  }
 },
 "nbformat": 4,
 "nbformat_minor": 2
}
