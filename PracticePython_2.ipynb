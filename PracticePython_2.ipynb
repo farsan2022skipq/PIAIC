{
 "cells": [
  {
   "cell_type": "markdown",
   "metadata": {},
   "source": [
    "# Practice Python 2\n",
    "\n",
    "\n",
    "### Datetime module in python"
   ]
  },
  {
   "cell_type": "code",
   "execution_count": 1,
   "metadata": {},
   "outputs": [
    {
     "name": "stdout",
     "output_type": "stream",
     "text": [
      "2020-02-04\n",
      "4\n",
      "2\n",
      "2020\n"
     ]
    }
   ],
   "source": [
    "import datetime as dt\n",
    "\n",
    "currentDate = dt.date.today()\n",
    "print(currentDate)\n",
    "print(currentDate.day)\n",
    "print(currentDate.month)\n",
    "print(currentDate.year)"
   ]
  },
  {
   "cell_type": "code",
   "execution_count": 2,
   "metadata": {},
   "outputs": [
    {
     "name": "stdout",
     "output_type": "stream",
     "text": [
      "04 Feb,2020\n",
      "04 Tue February,2020\n",
      "Tue 04 February, 2020\n"
     ]
    }
   ],
   "source": [
    "# We can also change the format of the time the default format is yy-mm-dd\n",
    "\n",
    "currentDate = dt.date.today()\n",
    "print(currentDate.strftime('%d %b,%Y'))  # %d is for day, %b is for month, %Y is for Year.\n",
    "print(currentDate.strftime('%d %a %B,%Y'))\n",
    "print(currentDate.strftime('%a %d %B, %Y'))"
   ]
  },
  {
   "cell_type": "code",
   "execution_count": 3,
   "metadata": {},
   "outputs": [],
   "source": [
    "# %a is for day in alphabets like [ Mon ]\n",
    "# %A is for day in alphabets like  [ Monday ]\n",
    "# %d is for day in numeric like [ 22 ]\n",
    "\n",
    "# %w for week in numbers like [09 ]\n",
    "\n",
    "# %b for months like [ Jun ]\n",
    "# %B for months like [ Junary ]\n",
    "# %m for months in numeric [ 09 ]\n",
    "\n",
    "# %y for years like [ 19 ]\n",
    "# %Y for years like [ 2019 ]\n",
    "\n",
    "# %H for hours 24 \n",
    "# %M for minutes\n",
    "# %I for hours in 12\n",
    "# %p for PM or AM"
   ]
  },
  {
   "cell_type": "code",
   "execution_count": 4,
   "metadata": {},
   "outputs": [
    {
     "name": "stdout",
     "output_type": "stream",
     "text": [
      "Please attent our event at:  Tue 02 Feb,2020\n"
     ]
    }
   ],
   "source": [
    "currentDate = dt.date.today()\n",
    "print(currentDate.strftime(\"Please attent our event at:  %a %m %b,%Y\"))"
   ]
  },
  {
   "cell_type": "markdown",
   "metadata": {},
   "source": [
    "### strptime()\n",
    "The strptime() class method takes two arguments:\n",
    "\n",
    "- string (that be converted to datetime)\n",
    "- format code\n",
    "\n",
    "Based on the string and format code used, the method returns its equivalent datetime object."
   ]
  },
  {
   "cell_type": "code",
   "execution_count": 5,
   "metadata": {},
   "outputs": [
    {
     "name": "stdout",
     "output_type": "stream",
     "text": [
      "What is your birthday ?: 29/04/95\n",
      "Your birthday month is April\n"
     ]
    }
   ],
   "source": [
    "# Example Program.\n",
    "birthday = input(\"What is your birthday ?: \")\n",
    "\n",
    "# The strptime() method creates a datetime object from the given string.\n",
    "birthdate = dt.datetime.strptime(birthday,\"%d/%m/%y\").date()\n",
    "print(f\"Your birthday month is {birthdate.strftime('%B')}\")"
   ]
  },
  {
   "cell_type": "code",
   "execution_count": 10,
   "metadata": {},
   "outputs": [
    {
     "name": "stdout",
     "output_type": "stream",
     "text": [
      "85 days, 0:00:00\n"
     ]
    }
   ],
   "source": [
    "nextBirthday = dt.datetime.strptime('29/04/20',\"%d/%m/%y\").date()\n",
    "currentDate = dt.date.today()\n",
    "diff = nextBirthday - currentDate\n",
    "print(diff)"
   ]
  },
  {
   "cell_type": "markdown",
   "metadata": {},
   "source": [
    "### timedelta()\n",
    "A timedelta object represents a duration, the difference between two dates or times.\n",
    "\n",
    "class datetime.timedelta(days=0, seconds=0, microseconds=0, milliseconds=0, minutes=0, hours=0, weeks=0)\n",
    "All arguments are optional and default to 0. Arguments may be integers or floats, and may be positive or negative."
   ]
  },
  {
   "cell_type": "code",
   "execution_count": 11,
   "metadata": {},
   "outputs": [
    {
     "name": "stdout",
     "output_type": "stream",
     "text": [
      "2020-02-04\n"
     ]
    }
   ],
   "source": [
    "currentDate = dt.date.today()\n",
    "# yy-mm-dd default format.\n",
    "print(currentDate)"
   ]
  },
  {
   "cell_type": "code",
   "execution_count": 15,
   "metadata": {},
   "outputs": [
    {
     "name": "stdout",
     "output_type": "stream",
     "text": [
      "2020-02-19\n",
      "2020-02-04\n"
     ]
    }
   ],
   "source": [
    "# adding 15 days to currentDate by using timedelta.\n",
    "print(currentDate + dt.timedelta(days=15))\n",
    "\n",
    "# adding 15 hours to currentDate by using timedelta.\n",
    "print(currentDate + dt.timedelta(hours=15))\n"
   ]
  },
  {
   "cell_type": "markdown",
   "metadata": {},
   "source": [
    "## Dateutil library.\n",
    "\n",
    "If datetime does not have what u need we can also use dateutil library.\n"
   ]
  },
  {
   "cell_type": "code",
   "execution_count": 23,
   "metadata": {},
   "outputs": [
    {
     "name": "stdout",
     "output_type": "stream",
     "text": [
      "2020-02-04 18:42:57.718824\n",
      "Hours: 18\n",
      "Minutes: 42\n",
      "Seconds: 57\n"
     ]
    }
   ],
   "source": [
    "## Now we will work with time.\n",
    "currentTime = dt.datetime.now()\n",
    "print(currentTime)\n",
    "print(f\"Hours: {currentTime.hour}\")\n",
    "print(f\"Minutes: {currentTime.minute}\")\n",
    "print(f\"Seconds: {currentTime.second}\")"
   ]
  },
  {
   "cell_type": "code",
   "execution_count": 79,
   "metadata": {},
   "outputs": [
    {
     "name": "stdout",
     "output_type": "stream",
     "text": [
      "08:16:36:PM\n"
     ]
    }
   ],
   "source": [
    "currentTime = dt.datetime.now()\n",
    "print(dt.datetime.strftime(currentTime,\"%I:%M:%S:%p\"))"
   ]
  },
  {
   "cell_type": "code",
   "execution_count": null,
   "metadata": {},
   "outputs": [],
   "source": []
  },
  {
   "cell_type": "code",
   "execution_count": null,
   "metadata": {},
   "outputs": [],
   "source": []
  }
 ],
 "metadata": {
  "kernelspec": {
   "display_name": "Python 3",
   "language": "python",
   "name": "python3"
  },
  "language_info": {
   "codemirror_mode": {
    "name": "ipython",
    "version": 3
   },
   "file_extension": ".py",
   "mimetype": "text/x-python",
   "name": "python",
   "nbconvert_exporter": "python",
   "pygments_lexer": "ipython3",
   "version": "3.7.4"
  }
 },
 "nbformat": 4,
 "nbformat_minor": 2
}
