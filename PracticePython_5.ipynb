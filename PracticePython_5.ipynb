{
 "cells": [
  {
   "cell_type": "markdown",
   "metadata": {},
   "source": [
    "# Dictionaries and its methods."
   ]
  },
  {
   "cell_type": "code",
   "execution_count": 3,
   "metadata": {},
   "outputs": [
    {
     "name": "stdout",
     "output_type": "stream",
     "text": [
      "{'id': 2, 'name': 'Wajahat Muhammad', 'course': 'AI', 'admission_date': '2019-12-15', 'DOB': '29-04-1995'}\n"
     ]
    }
   ],
   "source": [
    "# dictionaries \n",
    "dic1 = {\n",
    "    \"id\":2,\n",
    "    \"name\":\"Wajahat Muhammad\",\n",
    "    \"course\":\"AI\",\n",
    "    \"admission_date\":\"2019-12-15\",\n",
    "    \"DOB\":'29-04-1995'\n",
    "}\n",
    "print(dic1)"
   ]
  },
  {
   "cell_type": "code",
   "execution_count": 5,
   "metadata": {},
   "outputs": [
    {
     "data": {
      "text/plain": [
       "2"
      ]
     },
     "execution_count": 5,
     "metadata": {},
     "output_type": "execute_result"
    }
   ],
   "source": [
    "# get() Return the value for key if key is in the dictionary, else default.\n",
    "\n",
    "dic1 = {\n",
    "    \"id\":2,\n",
    "    \"name\":\"Wajahat Muhammad\",\n",
    "    \"course\":\"AI\",\n",
    "    \"admission_date\":\"2019-12-15\",\n",
    "    \"DOB\":'29-04-1995'\n",
    "}\n",
    "dic1.get(\"id\", \"ID is not avalible !\")\n"
   ]
  },
  {
   "cell_type": "code",
   "execution_count": 6,
   "metadata": {},
   "outputs": [
    {
     "data": {
      "text/plain": [
       "'Father Name is not avalible !'"
      ]
     },
     "execution_count": 6,
     "metadata": {},
     "output_type": "execute_result"
    }
   ],
   "source": [
    "dic1 = {\n",
    "    \"id\":2,\n",
    "    \"name\":\"Wajahat Muhammad\",\n",
    "    \"course\":\"AI\",\n",
    "    \"admission_date\":\"2019-12-15\",\n",
    "    \"DOB\":'29-04-1995'\n",
    "}\n",
    "dic1.get(\"father_name\", \"Father Name is not avalible !\")"
   ]
  },
  {
   "cell_type": "code",
   "execution_count": 23,
   "metadata": {},
   "outputs": [
    {
     "data": {
      "text/plain": [
       "{'id': 'None',\n",
       " 'name': 'None',\n",
       " 'course': 'None',\n",
       " 'admission Date': 'None',\n",
       " 'DOB': 'None'}"
      ]
     },
     "execution_count": 23,
     "metadata": {},
     "output_type": "execute_result"
    }
   ],
   "source": [
    "# fromkeys(keys,values) Create a new dictionary with keys from iterable and values set to value.\n",
    "dic2= dict({})\n",
    "\n",
    "# print(type(dic2))\n",
    "keys = [\"id\",\"name\",\"course\",\"admission Date\", \"DOB\"]\n",
    "values = [1,\"Wajaht Muhammad\",\"Machine Learning\", \"March 2020\",\"29/04/1995\"]\n",
    "dic2.fromkeys(keys,\"None\")\n",
    "\n"
   ]
  },
  {
   "cell_type": "code",
   "execution_count": 28,
   "metadata": {},
   "outputs": [
    {
     "name": "stdout",
     "output_type": "stream",
     "text": [
      "{'id': 2, 'name': 'Wajahat Muhammad', 'course': 'AI', 'admission_date': '2019-12-15', 'DOB': '29-04-1995'}\n",
      "After applying the clear method dic1 = {}\n"
     ]
    }
   ],
   "source": [
    "# clear() Remove all items from Dict.\n",
    "dic1 = {\n",
    "    \"id\":2,\n",
    "    \"name\":\"Wajahat Muhammad\",\n",
    "    \"course\":\"AI\",\n",
    "    \"admission_date\":\"2019-12-15\",\n",
    "    \"DOB\":'29-04-1995'\n",
    "}\n",
    "print(dic1)\n",
    "dic1.clear()\n",
    "print(f\"After applying the clear method dic1 = {dic1}\")\n"
   ]
  },
  {
   "cell_type": "code",
   "execution_count": 29,
   "metadata": {},
   "outputs": [
    {
     "name": "stdout",
     "output_type": "stream",
     "text": [
      "{'id': 2, 'name': 'Wajahat Muhammad', 'course': 'AI', 'admission_date': '2019-12-15', 'DOB': '29-04-1995'}\n"
     ]
    },
    {
     "ename": "NameError",
     "evalue": "name 'dic1' is not defined",
     "output_type": "error",
     "traceback": [
      "\u001b[1;31m---------------------------------------------------------------------------\u001b[0m",
      "\u001b[1;31mNameError\u001b[0m                                 Traceback (most recent call last)",
      "\u001b[1;32m<ipython-input-29-f095d0abe9a8>\u001b[0m in \u001b[0;36m<module>\u001b[1;34m\u001b[0m\n\u001b[0;32m      9\u001b[0m \u001b[0mprint\u001b[0m\u001b[1;33m(\u001b[0m\u001b[0mdic1\u001b[0m\u001b[1;33m)\u001b[0m\u001b[1;33m\u001b[0m\u001b[1;33m\u001b[0m\u001b[0m\n\u001b[0;32m     10\u001b[0m \u001b[1;32mdel\u001b[0m \u001b[0mdic1\u001b[0m\u001b[1;33m\u001b[0m\u001b[1;33m\u001b[0m\u001b[0m\n\u001b[1;32m---> 11\u001b[1;33m \u001b[0mprint\u001b[0m\u001b[1;33m(\u001b[0m\u001b[0mdic1\u001b[0m\u001b[1;33m)\u001b[0m\u001b[1;33m\u001b[0m\u001b[1;33m\u001b[0m\u001b[0m\n\u001b[0m",
      "\u001b[1;31mNameError\u001b[0m: name 'dic1' is not defined"
     ]
    }
   ],
   "source": [
    "# we can also delete the dict using del keyword.\n",
    "dic1 = {\n",
    "    \"id\":2,\n",
    "    \"name\":\"Wajahat Muhammad\",\n",
    "    \"course\":\"AI\",\n",
    "    \"admission_date\":\"2019-12-15\",\n",
    "    \"DOB\":'29-04-1995'\n",
    "}\n",
    "print(dic1)\n",
    "del dic1\n",
    "print(dic1)"
   ]
  },
  {
   "cell_type": "code",
   "execution_count": 33,
   "metadata": {},
   "outputs": [
    {
     "name": "stdout",
     "output_type": "stream",
     "text": [
      "<zip object at 0x000001A63F298B08>\n",
      "{'id': 1, 'name': 'Wajahat Muhammad', 'course': 'Machine Learning', 'DOB': '29/04/1995'}\n"
     ]
    }
   ],
   "source": [
    "keys = [\"id\", \"name\",\"course\",\"DOB\"]\n",
    "values = [1,\"Wajahat Muhammad\", \"Machine Learning\", \"29/04/1995\"]\n",
    "z = zip(keys,values)\n",
    "print(z)\n",
    "dic1 = dict(zip(keys,values))\n",
    "print(dic1)"
   ]
  },
  {
   "cell_type": "code",
   "execution_count": 38,
   "metadata": {},
   "outputs": [
    {
     "name": "stdout",
     "output_type": "stream",
     "text": [
      "dict_items([('id', 2), ('name', 'Wajahat Muhammad'), ('course', 'AI'), ('admission_date', '2019-12-15'), ('DOB', '29-04-1995')])\n",
      "dict_keys(['id', 'name', 'course', 'admission_date', 'DOB'])\n",
      "dict_values([2, 'Wajahat Muhammad', 'AI', '2019-12-15', '29-04-1995'])\n"
     ]
    }
   ],
   "source": [
    "# items() a set-like object providing a view on D's items\n",
    "\n",
    "dic1 = {\n",
    "    \"id\":2,\n",
    "    \"name\":\"Wajahat Muhammad\",\n",
    "    \"course\":\"AI\",\n",
    "    \"admission_date\":\"2019-12-15\",\n",
    "    \"DOB\":'29-04-1995'\n",
    "}\n",
    "print(dic1.items())\n",
    "\n",
    "#  D.keys() a set-like object providing a view on D's keys\n",
    "print(dic1.keys())\n",
    "\n",
    "#  D.values()  an object providing a view on D's values\n",
    "print(dic1.values())"
   ]
  },
  {
   "cell_type": "code",
   "execution_count": 44,
   "metadata": {},
   "outputs": [
    {
     "name": "stdout",
     "output_type": "stream",
     "text": [
      "{'id': 2, 'name': 'Wajahat Muhammad', 'course': 'AI', 'admission_date': '2019-12-15', 'DOB': '29-04-1995'}\n",
      "{'name': 'Wajahat Muhammad', 'course': 'AI', 'admission_date': '2019-12-15', 'DOB': '29-04-1995'}\n"
     ]
    }
   ],
   "source": [
    "# D.pop(k[,d]) -> v, remove specified key and return the corresponding value.\n",
    "# If key is not found, d is returned if given, otherwise KeyError is raised\n",
    "dic1 = {\n",
    "    \"id\":2,\n",
    "    \"name\":\"Wajahat Muhammad\",\n",
    "    \"course\":\"AI\",\n",
    "    \"admission_date\":\"2019-12-15\",\n",
    "    \"DOB\":'29-04-1995'\n",
    "}\n",
    "# dic1.pop(\"fathername\")\n",
    "print(dic1)\n",
    "dic1.pop(\"id\")\n",
    "print(dic1)"
   ]
  },
  {
   "cell_type": "code",
   "execution_count": 51,
   "metadata": {},
   "outputs": [
    {
     "data": {
      "text/plain": [
       "('DOB', '29-04-1995')"
      ]
     },
     "execution_count": 51,
     "metadata": {},
     "output_type": "execute_result"
    }
   ],
   "source": [
    "dic1 = {\n",
    "    \"id\":2,\n",
    "    \"name\":\"Wajahat Muhammad\",\n",
    "    \"course\":\"AI\",\n",
    "    \"admission_date\":\"2019-12-15\",\n",
    "    \"DOB\":'29-04-1995'\n",
    "}\n",
    "\n",
    "# D.popitem() -> (k, v), remove and return some (key, value) pair as a\n",
    "# 2-tuple; but raise KeyError if D is empty.\n",
    "dic2 = dict()\n",
    "dic1.popitem()\n",
    "# dic2.popitem()"
   ]
  },
  {
   "cell_type": "code",
   "execution_count": 52,
   "metadata": {},
   "outputs": [
    {
     "name": "stdout",
     "output_type": "stream",
     "text": [
      "Dic1 = {'id': 2, 'name': 'Wajahat Muhammad', 'course': 'AI', 'admission_date': '2019-12-15', 'DOB': '29-04-1995'}\n",
      "After applying update method Dic1 = {'id': 2, 'name': 'Wahaj Muhammad', 'course': 'Machine Learning', 'admission_date': '2019-12-15', 'DOB': '29-04-1995', 'Father Name': 'Muhammad Shah'}\n"
     ]
    }
   ],
   "source": [
    "# update()\n",
    "dic1 = {\n",
    "    \"id\":2,\n",
    "    \"name\":\"Wajahat Muhammad\",\n",
    "    \"course\":\"AI\",\n",
    "    \"admission_date\":\"2019-12-15\",\n",
    "    \"DOB\":'29-04-1995'\n",
    "}\n",
    "dic2 = {\n",
    "    \"id\":2,\n",
    "    \"name\":\"Wahaj Muhammad\",\n",
    "    \"course\":\"Machine Learning\",\n",
    "    \"admission_date\":\"2019-12-15\",\n",
    "    \"DOB\":'29-04-1995',\n",
    "    \"Father Name\": \"Muhammad Shah\"\n",
    "}\n",
    "print(f\"Dic1 = {dic1}\")\n",
    "dic1.update(dic2)\n",
    "print(f\"After applying update method Dic1 = {dic1}\")\n"
   ]
  },
  {
   "cell_type": "markdown",
   "metadata": {},
   "source": [
    "# Functions.\n",
    "\n"
   ]
  },
  {
   "cell_type": "code",
   "execution_count": 53,
   "metadata": {},
   "outputs": [
    {
     "name": "stdout",
     "output_type": "stream",
     "text": [
      "Hello World\n"
     ]
    }
   ],
   "source": [
    "# We can define fucntion by using def keyword.\n",
    "def myFunc():\n",
    "    print(\"Hello World\")\n",
    "\n",
    "myFunc()"
   ]
  },
  {
   "cell_type": "code",
   "execution_count": 56,
   "metadata": {},
   "outputs": [
    {
     "name": "stdout",
     "output_type": "stream",
     "text": [
      "Arguments : (1, 2, 3) Keyword Arguments : {'name': 'Wajahat'}\n",
      "Arguments : (1, 2, 3) Keyword Arguments : {}\n",
      "Arguments : () Keyword Arguments : {}\n"
     ]
    }
   ],
   "source": [
    "# There are different types of functions.\n",
    "\n",
    "def myFunc(*args, **kwargs):\n",
    "    print(f\"Arguments : {args} Keyword Arguments : {kwargs}\")\n",
    "\n",
    "myFunc(1,2,3,name = \"Wajahat\")\n",
    "myFunc(1,2,3)\n",
    "myFunc()"
   ]
  },
  {
   "cell_type": "code",
   "execution_count": 58,
   "metadata": {},
   "outputs": [
    {
     "name": "stdout",
     "output_type": "stream",
     "text": [
      "(['Machine Learning', 'Internet of Things'], {'name': 'Wajahat', 'age': 24})\n",
      "{}\n"
     ]
    }
   ],
   "source": [
    "def myFunc(*args, **kwargs):\n",
    "    print(args)\n",
    "    print(kwargs)\n",
    "\n",
    "courses = [\"Machine Learning\", \"Internet of Things\"]\n",
    "info = {\"name\":\"Wajahat\", \"age\":24}\n",
    "\n",
    "myFunc(courses,info)"
   ]
  },
  {
   "cell_type": "markdown",
   "metadata": {},
   "source": [
    "##### We can unpack the values using single( * ) for list and double( * * ) for dictionary. "
   ]
  },
  {
   "cell_type": "code",
   "execution_count": 59,
   "metadata": {},
   "outputs": [
    {
     "name": "stdout",
     "output_type": "stream",
     "text": [
      "('Machine Learning', 'Internet of Things')\n",
      "{'name': 'Wajahat', 'age': 24}\n"
     ]
    }
   ],
   "source": [
    "def myFunc(*args, **kwargs):\n",
    "    print(args)\n",
    "    print(kwargs)\n",
    "\n",
    "courses = [\"Machine Learning\", \"Internet of Things\"]\n",
    "info = {\"name\":\"Wajahat\", \"age\":24}\n",
    "\n",
    "\n",
    "\n",
    "myFunc(*courses,**info)"
   ]
  },
  {
   "cell_type": "markdown",
   "metadata": {},
   "source": [
    "# Lambda function."
   ]
  },
  {
   "cell_type": "code",
   "execution_count": 62,
   "metadata": {},
   "outputs": [
    {
     "name": "stdout",
     "output_type": "stream",
     "text": [
      "25\n"
     ]
    }
   ],
   "source": [
    "# lambda functions are one liner function and has no name like ordinary function.\n",
    "f = lambda x: x*x\n",
    "\n",
    "result = f(5)\n",
    "print(result)"
   ]
  },
  {
   "cell_type": "markdown",
   "metadata": {},
   "source": [
    "#### Big Data concepts\n",
    "1. filter() \n",
    "2. map()\n",
    "3. reduce()"
   ]
  },
  {
   "cell_type": "code",
   "execution_count": 1,
   "metadata": {},
   "outputs": [
    {
     "name": "stdout",
     "output_type": "stream",
     "text": [
      "Evens : [2, 6, 4, 8, 8, 6]\n",
      "Doubles : [4, 12, 8, 16, 16, 12]\n",
      "Sums : 68\n"
     ]
    }
   ],
   "source": [
    "from functools import reduce\n",
    "# First we find the evens from list\n",
    "# Second we double the evens\n",
    "#\n",
    "num = [2,9,6,4,8,5,7,8,6,5]\n",
    "\n",
    "# filter(function or None, iterable) --> filter object\n",
    "\n",
    "evens = list(filter(lambda x:  x%2==0,num))\n",
    "print(f\"Evens : {evens}\")\n",
    "\n",
    "# map(func, *iterables) --> map object\n",
    "doubles = list(map(lambda x: x*2,evens))\n",
    "print(f\"Doubles : {doubles}\")\n",
    "\n",
    "\n",
    "# reduce(function, sequence[, initial]) -> value\n",
    "# Apply a function of two arguments cumulatively to the items of a sequence,\n",
    "sums = reduce(lambda x,y: x+y, doubles)\n",
    "print(f\"Sums : {sums}\")"
   ]
  },
  {
   "cell_type": "code",
   "execution_count": null,
   "metadata": {},
   "outputs": [],
   "source": []
  }
 ],
 "metadata": {
  "kernelspec": {
   "display_name": "Python 3",
   "language": "python",
   "name": "python3"
  },
  "language_info": {
   "codemirror_mode": {
    "name": "ipython",
    "version": 3
   },
   "file_extension": ".py",
   "mimetype": "text/x-python",
   "name": "python",
   "nbconvert_exporter": "python",
   "pygments_lexer": "ipython3",
   "version": "3.7.4"
  }
 },
 "nbformat": 4,
 "nbformat_minor": 2
}
